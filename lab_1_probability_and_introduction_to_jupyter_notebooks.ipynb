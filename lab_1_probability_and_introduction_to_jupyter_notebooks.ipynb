{
  "cells": [
    {
      "cell_type": "markdown",
      "metadata": {
        "id": "view-in-github",
        "colab_type": "text"
      },
      "source": [
        "<a href=\"https://colab.research.google.com/github/zxj719/ML_lab/blob/main/lab_1_probability_and_introduction_to_jupyter_notebooks.ipynb\" target=\"_parent\"><img src=\"https://colab.research.google.com/assets/colab-badge.svg\" alt=\"Open In Colab\"/></a>"
      ]
    },
    {
      "cell_type": "markdown",
      "metadata": {
        "id": "sNIpkcgdGIV9"
      },
      "source": [
        "# Probability and an Introduction to Jupyter, Python and Pandas\n",
        "\n",
        "Welcome to the Foundations of Machine Learning course. In this course we will introduce the basic concepts of machine learning. In particular we will look at tools and techniques that describe how to model a dataset with the purpose of prediction. An integrated part of that is how we approach data with the computer. We are choosing to do that with the tool you see in front of you: the Jupyter Notebook.\n",
        "\n",
        "Classical software engineering demands a large amount of design and testing. In data analysis, testing remains very important, but the design is often evolving. The design evolves through a process known as *exploratory data analysis*. You will learn some of the techniques of exploratory data analysis in this course.\n",
        "\n",
        "In this Notebook, we will use a dataset to compute basic probability quantities. This will allow you to see how those concepts we review in the Lecture can actually be translated to Python code so that you can automate computation of basic probabilities. This will later on be useful to build basic probabilistic prediction models."
      ]
    },
    {
      "cell_type": "markdown",
      "metadata": {
        "id": "0z7XuoE-GIWA"
      },
      "source": [
        "### Linear Algebra, Probability and Differential Calculus\n",
        "\n",
        "In this module, we will be making use of linear algebra (matrix operations including inverse, inner products, determinant etc), probability (sum rule of probability, product rule of probability), and the calculus of differentiation (and integration!). Depending on your background, a new concept for you will be multivariate differentiation and integration. This combines linear algebra and differential calculus. These techniques are vital in understanding probability distributions over high dimensional distributions.\n",
        "\n",
        "### Choice of Language\n",
        "\n",
        "In this module, we will be using Python for our programming language. A prerequisite of attending this course is that you have learnt at least one programming language in the past. It is not our objective to teach you python. At Level 4 and Masters we expect our students to be able pick up a language as they go. If you have not experienced python before it may be worth your while spending some time understanding the language. There are resources available for you to do this [here](https://docs.python.org/3/tutorial/index.html) that are based on the standard console. An introduction to the Jupyter notebook (formerly known as the IPython notebook) is available [here](https://ipython.readthedocs.io/en/stable/)."
      ]
    },
    {
      "cell_type": "markdown",
      "metadata": {
        "id": "seA6bhOJGIWB"
      },
      "source": [
        "### Question 1\n",
        "\n",
        "Who invented python and why? What was the language designed to do? What is the origin of the name \"python\"? Is the language a compiled language? Is it an object orientated language?"
      ]
    },
    {
      "cell_type": "markdown",
      "metadata": {
        "id": "qF2aM1iIGIWB"
      },
      "source": [
        "#### Question 1 Answer\n",
        "\n",
        "Python was created by Guido van Rossum and first released in 1991. Guido van Rossum, a Dutch programmer, designed Python with several goals in mind:\n",
        "\n",
        "1. **Readability**: Python was designed to be a highly readable language. Guido wanted to create a programming language with a clean and easy-to-understand syntax, making it accessible to both beginners and experienced developers.\n",
        "\n",
        "2. **Simplicity**: Python's design philosophy emphasizes simplicity and minimizing the complexity of code. The idea was to enable developers to express concepts in fewer lines of code compared to other languages.\n",
        "\n",
        "3. **Versatility**: Python was intended to be a versatile, general-purpose language capable of handling a wide range of tasks. It was designed to support multiple programming paradigms, including procedural, object-oriented, and functional programming.\n",
        "\n",
        "4. **Open Source**: Python was created as an open-source project, fostering a collaborative and community-driven development process. This openness allowed Python to grow and evolve with input from a global community of developers.\n",
        "\n",
        "5. **Cross-Platform**: Python was designed to be a cross-platform language, meaning that code written in Python can run on various operating systems without modification.\n",
        "\n",
        "6. **Ease of Integration**: Python was intended to be easy to integrate with other languages and systems. It has robust support for calling C/C++ code and can be used for scripting and automation tasks.\n",
        "\n",
        "The name \"Python\" has its origin in Guido van Rossum's fondness for the British comedy group Monty Python. He chose the name while working on the language in the late 1980s. Guido wanted a name that was unique and a bit humorous, and \"Python\" fit the bill.\n",
        "\n",
        "Python is not a compiled language in the traditional sense. It is an interpreted language, which means that Python code is executed by an interpreter at runtime. However, Python code can be compiled into bytecode, which is then executed by the Python interpreter. This compilation step occurs automatically when you run a Python script.\n",
        "\n",
        "Python is indeed an object-oriented language. It supports object-oriented programming (OOP) principles, including classes, objects, inheritance, encapsulation, and polymorphism. Python's support for OOP makes it a versatile language for designing and implementing object-oriented software systems."
      ]
    },
    {
      "cell_type": "markdown",
      "metadata": {
        "id": "s0ga2dOnGIWC"
      },
      "source": [
        "## Choice of Environment\n",
        "\n",
        "We are working in the Jupyter notebook. It provides an environment for interacting with data in a natural way which is reproducible. We will be learning how to make use of the notebook throughout the course. The notebook allows us to combine code with descriptions, interactive visualizations, plots etc. In fact it allows us to do many of the things we need for data science. Notebooks can also be easily shared through the internet for ease of communication of ideas. The box this text is written in is a *markdown* box. Below we have a *code* box."
      ]
    },
    {
      "cell_type": "code",
      "execution_count": null,
      "metadata": {
        "id": "8cjvdWatGIWC",
        "outputId": "2e7a9c75-dd04-40b5-878e-c76b118df650",
        "colab": {
          "base_uri": "https://localhost:8080/"
        }
      },
      "outputs": [
        {
          "output_type": "stream",
          "name": "stdout",
          "text": [
            "This is the Jupyter notebook\n",
            "It provides a platform for:\n",
            "Open Science Data\n",
            "Data Open Science\n",
            "Science Data Open\n"
          ]
        }
      ],
      "source": [
        "print(\"This is the Jupyter notebook\")\n",
        "print(\"It provides a platform for:\")\n",
        "words = ['Open', 'Data', 'Science']\n",
        "from random import shuffle\n",
        "for i in range(3):\n",
        "    shuffle(words)\n",
        "    print(' '.join(words))\n"
      ]
    },
    {
      "cell_type": "markdown",
      "metadata": {
        "id": "Wc3_bYYtGIWD"
      },
      "source": [
        "Have a play with the code in the above box. Think about the following questions: what is the difference between `CTRL-enter` and `SHIFT-enter` in running the code? What does the command `shuffle` do? Can you find out by typing `shuffle?` in a code box?\n",
        "Once you've had a play with the code we can load in some data using the `pandas` library for data analysis."
      ]
    },
    {
      "cell_type": "markdown",
      "metadata": {
        "id": "KmW9JwIWGIWD"
      },
      "source": [
        "## Movie Body Count Example\n",
        "\n",
        "There is a crisis in the movie industry, deaths are occuring on a massive scale. In every feature film the body count is tolling up. But what is the cause of all these deaths? Let's try and investigate.\n",
        "\n",
        "For our first example, we take inspiration from work by [researchers at NJIT](https://www.theswarmlab.com/blog/rvspython/r/2014/02/02/r-vs-python-round-2-2/). Researchers were comparing the qualities of Python with R. They put together a data base of results from the \"Internet Movie Database\" and the [Movie Body Count](http://www.moviebodycounts.com/) website which will allow us to do some preliminary investigation."
      ]
    },
    {
      "cell_type": "markdown",
      "metadata": {
        "id": "6YphQyzYGIWD"
      },
      "source": [
        "We will make use of data that has already been 'scraped' from the [Movie Body Count](http://www.moviebodycounts.com/) website. Code and the data is available at [a github repository](https://github.com/sjmgarnier/R-vs-Python/tree/master/Deadliest%20movies%20scrape/code). Git is a version control system and github is a website that hosts code that can be accessed through git. By sharing the code publicly through github, the authors are licensing the code publicly and allowing you to access and edit it. As well as accessing the code via github you can also [download the zip file](https://github.com/sjmgarnier/R-vs-Python/archive/master.zip). But let's do that in python"
      ]
    },
    {
      "cell_type": "code",
      "execution_count": null,
      "metadata": {
        "id": "_wGWOcz8GIWE",
        "outputId": "3173ea27-83a3-46f4-fef1-34004251d90d",
        "colab": {
          "base_uri": "https://localhost:8080/"
        }
      },
      "outputs": [
        {
          "output_type": "execute_result",
          "data": {
            "text/plain": [
              "('./master.zip', <http.client.HTTPMessage at 0x78c0e54de5c0>)"
            ]
          },
          "metadata": {},
          "execution_count": 3
        }
      ],
      "source": [
        "import urllib.request\n",
        "urllib.request.urlretrieve('https://github.com/sjmgarnier/R-vs-Python/archive/master.zip', './master.zip')"
      ]
    },
    {
      "cell_type": "markdown",
      "metadata": {
        "id": "p3TftdeCGIWF"
      },
      "source": [
        "Once the data is downloaded we can unzip it into the same directory where we are running the lab class."
      ]
    },
    {
      "cell_type": "code",
      "execution_count": null,
      "metadata": {
        "id": "wAdlvXBGGIWF"
      },
      "outputs": [],
      "source": [
        "import zipfile\n",
        "zip = zipfile.ZipFile('./master.zip', 'r')\n",
        "for name in zip.namelist():\n",
        "    zip.extract(name, '.')"
      ]
    },
    {
      "cell_type": "code",
      "execution_count": null,
      "metadata": {
        "id": "khH2LyVdGIWF"
      },
      "outputs": [],
      "source": [
        "import pandas as pd # import the pandas library into a namespace called pd\n",
        "film_deaths = pd.read_csv('./R-vs-Python-master/Deadliest movies scrape/code/film-death-counts-Python.csv')\n"
      ]
    },
    {
      "cell_type": "markdown",
      "metadata": {
        "id": "akhnobCGGIWF"
      },
      "source": [
        "Once it is loaded in the data can be summarized using the `describe` method in pandas.\n"
      ]
    },
    {
      "cell_type": "code",
      "execution_count": null,
      "metadata": {
        "id": "ImUfn6HvGIWF",
        "outputId": "4f821698-1f6f-4527-9db3-2fcea29414a2",
        "colab": {
          "base_uri": "https://localhost:8080/",
          "height": 300
        }
      },
      "outputs": [
        {
          "output_type": "execute_result",
          "data": {
            "text/plain": [
              "              Year  Body_Count  Length_Minutes  IMDB_Rating\n",
              "count   421.000000  421.000000      421.000000   421.000000\n",
              "mean   1996.491686   53.287411      115.427553     6.882898\n",
              "std      10.913210   82.068035       21.652287     1.110788\n",
              "min    1949.000000    0.000000       79.000000     2.000000\n",
              "25%    1991.000000   11.000000      100.000000     6.200000\n",
              "50%    2000.000000   28.000000      111.000000     6.900000\n",
              "75%    2005.000000   61.000000      127.000000     7.700000\n",
              "max    2009.000000  836.000000      201.000000     9.300000"
            ],
            "text/html": [
              "\n",
              "  <div id=\"df-9b889e47-d055-49f5-9b20-e49f6231b47c\" class=\"colab-df-container\">\n",
              "    <div>\n",
              "<style scoped>\n",
              "    .dataframe tbody tr th:only-of-type {\n",
              "        vertical-align: middle;\n",
              "    }\n",
              "\n",
              "    .dataframe tbody tr th {\n",
              "        vertical-align: top;\n",
              "    }\n",
              "\n",
              "    .dataframe thead th {\n",
              "        text-align: right;\n",
              "    }\n",
              "</style>\n",
              "<table border=\"1\" class=\"dataframe\">\n",
              "  <thead>\n",
              "    <tr style=\"text-align: right;\">\n",
              "      <th></th>\n",
              "      <th>Year</th>\n",
              "      <th>Body_Count</th>\n",
              "      <th>Length_Minutes</th>\n",
              "      <th>IMDB_Rating</th>\n",
              "    </tr>\n",
              "  </thead>\n",
              "  <tbody>\n",
              "    <tr>\n",
              "      <th>count</th>\n",
              "      <td>421.000000</td>\n",
              "      <td>421.000000</td>\n",
              "      <td>421.000000</td>\n",
              "      <td>421.000000</td>\n",
              "    </tr>\n",
              "    <tr>\n",
              "      <th>mean</th>\n",
              "      <td>1996.491686</td>\n",
              "      <td>53.287411</td>\n",
              "      <td>115.427553</td>\n",
              "      <td>6.882898</td>\n",
              "    </tr>\n",
              "    <tr>\n",
              "      <th>std</th>\n",
              "      <td>10.913210</td>\n",
              "      <td>82.068035</td>\n",
              "      <td>21.652287</td>\n",
              "      <td>1.110788</td>\n",
              "    </tr>\n",
              "    <tr>\n",
              "      <th>min</th>\n",
              "      <td>1949.000000</td>\n",
              "      <td>0.000000</td>\n",
              "      <td>79.000000</td>\n",
              "      <td>2.000000</td>\n",
              "    </tr>\n",
              "    <tr>\n",
              "      <th>25%</th>\n",
              "      <td>1991.000000</td>\n",
              "      <td>11.000000</td>\n",
              "      <td>100.000000</td>\n",
              "      <td>6.200000</td>\n",
              "    </tr>\n",
              "    <tr>\n",
              "      <th>50%</th>\n",
              "      <td>2000.000000</td>\n",
              "      <td>28.000000</td>\n",
              "      <td>111.000000</td>\n",
              "      <td>6.900000</td>\n",
              "    </tr>\n",
              "    <tr>\n",
              "      <th>75%</th>\n",
              "      <td>2005.000000</td>\n",
              "      <td>61.000000</td>\n",
              "      <td>127.000000</td>\n",
              "      <td>7.700000</td>\n",
              "    </tr>\n",
              "    <tr>\n",
              "      <th>max</th>\n",
              "      <td>2009.000000</td>\n",
              "      <td>836.000000</td>\n",
              "      <td>201.000000</td>\n",
              "      <td>9.300000</td>\n",
              "    </tr>\n",
              "  </tbody>\n",
              "</table>\n",
              "</div>\n",
              "    <div class=\"colab-df-buttons\">\n",
              "\n",
              "  <div class=\"colab-df-container\">\n",
              "    <button class=\"colab-df-convert\" onclick=\"convertToInteractive('df-9b889e47-d055-49f5-9b20-e49f6231b47c')\"\n",
              "            title=\"Convert this dataframe to an interactive table.\"\n",
              "            style=\"display:none;\">\n",
              "\n",
              "  <svg xmlns=\"http://www.w3.org/2000/svg\" height=\"24px\" viewBox=\"0 -960 960 960\">\n",
              "    <path d=\"M120-120v-720h720v720H120Zm60-500h600v-160H180v160Zm220 220h160v-160H400v160Zm0 220h160v-160H400v160ZM180-400h160v-160H180v160Zm440 0h160v-160H620v160ZM180-180h160v-160H180v160Zm440 0h160v-160H620v160Z\"/>\n",
              "  </svg>\n",
              "    </button>\n",
              "\n",
              "  <style>\n",
              "    .colab-df-container {\n",
              "      display:flex;\n",
              "      gap: 12px;\n",
              "    }\n",
              "\n",
              "    .colab-df-convert {\n",
              "      background-color: #E8F0FE;\n",
              "      border: none;\n",
              "      border-radius: 50%;\n",
              "      cursor: pointer;\n",
              "      display: none;\n",
              "      fill: #1967D2;\n",
              "      height: 32px;\n",
              "      padding: 0 0 0 0;\n",
              "      width: 32px;\n",
              "    }\n",
              "\n",
              "    .colab-df-convert:hover {\n",
              "      background-color: #E2EBFA;\n",
              "      box-shadow: 0px 1px 2px rgba(60, 64, 67, 0.3), 0px 1px 3px 1px rgba(60, 64, 67, 0.15);\n",
              "      fill: #174EA6;\n",
              "    }\n",
              "\n",
              "    .colab-df-buttons div {\n",
              "      margin-bottom: 4px;\n",
              "    }\n",
              "\n",
              "    [theme=dark] .colab-df-convert {\n",
              "      background-color: #3B4455;\n",
              "      fill: #D2E3FC;\n",
              "    }\n",
              "\n",
              "    [theme=dark] .colab-df-convert:hover {\n",
              "      background-color: #434B5C;\n",
              "      box-shadow: 0px 1px 3px 1px rgba(0, 0, 0, 0.15);\n",
              "      filter: drop-shadow(0px 1px 2px rgba(0, 0, 0, 0.3));\n",
              "      fill: #FFFFFF;\n",
              "    }\n",
              "  </style>\n",
              "\n",
              "    <script>\n",
              "      const buttonEl =\n",
              "        document.querySelector('#df-9b889e47-d055-49f5-9b20-e49f6231b47c button.colab-df-convert');\n",
              "      buttonEl.style.display =\n",
              "        google.colab.kernel.accessAllowed ? 'block' : 'none';\n",
              "\n",
              "      async function convertToInteractive(key) {\n",
              "        const element = document.querySelector('#df-9b889e47-d055-49f5-9b20-e49f6231b47c');\n",
              "        const dataTable =\n",
              "          await google.colab.kernel.invokeFunction('convertToInteractive',\n",
              "                                                    [key], {});\n",
              "        if (!dataTable) return;\n",
              "\n",
              "        const docLinkHtml = 'Like what you see? Visit the ' +\n",
              "          '<a target=\"_blank\" href=https://colab.research.google.com/notebooks/data_table.ipynb>data table notebook</a>'\n",
              "          + ' to learn more about interactive tables.';\n",
              "        element.innerHTML = '';\n",
              "        dataTable['output_type'] = 'display_data';\n",
              "        await google.colab.output.renderOutput(dataTable, element);\n",
              "        const docLink = document.createElement('div');\n",
              "        docLink.innerHTML = docLinkHtml;\n",
              "        element.appendChild(docLink);\n",
              "      }\n",
              "    </script>\n",
              "  </div>\n",
              "\n",
              "\n",
              "<div id=\"df-6feebed6-b24f-40ae-abfb-369733752c89\">\n",
              "  <button class=\"colab-df-quickchart\" onclick=\"quickchart('df-6feebed6-b24f-40ae-abfb-369733752c89')\"\n",
              "            title=\"Suggest charts.\"\n",
              "            style=\"display:none;\">\n",
              "\n",
              "<svg xmlns=\"http://www.w3.org/2000/svg\" height=\"24px\"viewBox=\"0 0 24 24\"\n",
              "     width=\"24px\">\n",
              "    <g>\n",
              "        <path d=\"M19 3H5c-1.1 0-2 .9-2 2v14c0 1.1.9 2 2 2h14c1.1 0 2-.9 2-2V5c0-1.1-.9-2-2-2zM9 17H7v-7h2v7zm4 0h-2V7h2v10zm4 0h-2v-4h2v4z\"/>\n",
              "    </g>\n",
              "</svg>\n",
              "  </button>\n",
              "\n",
              "<style>\n",
              "  .colab-df-quickchart {\n",
              "      --bg-color: #E8F0FE;\n",
              "      --fill-color: #1967D2;\n",
              "      --hover-bg-color: #E2EBFA;\n",
              "      --hover-fill-color: #174EA6;\n",
              "      --disabled-fill-color: #AAA;\n",
              "      --disabled-bg-color: #DDD;\n",
              "  }\n",
              "\n",
              "  [theme=dark] .colab-df-quickchart {\n",
              "      --bg-color: #3B4455;\n",
              "      --fill-color: #D2E3FC;\n",
              "      --hover-bg-color: #434B5C;\n",
              "      --hover-fill-color: #FFFFFF;\n",
              "      --disabled-bg-color: #3B4455;\n",
              "      --disabled-fill-color: #666;\n",
              "  }\n",
              "\n",
              "  .colab-df-quickchart {\n",
              "    background-color: var(--bg-color);\n",
              "    border: none;\n",
              "    border-radius: 50%;\n",
              "    cursor: pointer;\n",
              "    display: none;\n",
              "    fill: var(--fill-color);\n",
              "    height: 32px;\n",
              "    padding: 0;\n",
              "    width: 32px;\n",
              "  }\n",
              "\n",
              "  .colab-df-quickchart:hover {\n",
              "    background-color: var(--hover-bg-color);\n",
              "    box-shadow: 0 1px 2px rgba(60, 64, 67, 0.3), 0 1px 3px 1px rgba(60, 64, 67, 0.15);\n",
              "    fill: var(--button-hover-fill-color);\n",
              "  }\n",
              "\n",
              "  .colab-df-quickchart-complete:disabled,\n",
              "  .colab-df-quickchart-complete:disabled:hover {\n",
              "    background-color: var(--disabled-bg-color);\n",
              "    fill: var(--disabled-fill-color);\n",
              "    box-shadow: none;\n",
              "  }\n",
              "\n",
              "  .colab-df-spinner {\n",
              "    border: 2px solid var(--fill-color);\n",
              "    border-color: transparent;\n",
              "    border-bottom-color: var(--fill-color);\n",
              "    animation:\n",
              "      spin 1s steps(1) infinite;\n",
              "  }\n",
              "\n",
              "  @keyframes spin {\n",
              "    0% {\n",
              "      border-color: transparent;\n",
              "      border-bottom-color: var(--fill-color);\n",
              "      border-left-color: var(--fill-color);\n",
              "    }\n",
              "    20% {\n",
              "      border-color: transparent;\n",
              "      border-left-color: var(--fill-color);\n",
              "      border-top-color: var(--fill-color);\n",
              "    }\n",
              "    30% {\n",
              "      border-color: transparent;\n",
              "      border-left-color: var(--fill-color);\n",
              "      border-top-color: var(--fill-color);\n",
              "      border-right-color: var(--fill-color);\n",
              "    }\n",
              "    40% {\n",
              "      border-color: transparent;\n",
              "      border-right-color: var(--fill-color);\n",
              "      border-top-color: var(--fill-color);\n",
              "    }\n",
              "    60% {\n",
              "      border-color: transparent;\n",
              "      border-right-color: var(--fill-color);\n",
              "    }\n",
              "    80% {\n",
              "      border-color: transparent;\n",
              "      border-right-color: var(--fill-color);\n",
              "      border-bottom-color: var(--fill-color);\n",
              "    }\n",
              "    90% {\n",
              "      border-color: transparent;\n",
              "      border-bottom-color: var(--fill-color);\n",
              "    }\n",
              "  }\n",
              "</style>\n",
              "\n",
              "  <script>\n",
              "    async function quickchart(key) {\n",
              "      const quickchartButtonEl =\n",
              "        document.querySelector('#' + key + ' button');\n",
              "      quickchartButtonEl.disabled = true;  // To prevent multiple clicks.\n",
              "      quickchartButtonEl.classList.add('colab-df-spinner');\n",
              "      try {\n",
              "        const charts = await google.colab.kernel.invokeFunction(\n",
              "            'suggestCharts', [key], {});\n",
              "      } catch (error) {\n",
              "        console.error('Error during call to suggestCharts:', error);\n",
              "      }\n",
              "      quickchartButtonEl.classList.remove('colab-df-spinner');\n",
              "      quickchartButtonEl.classList.add('colab-df-quickchart-complete');\n",
              "    }\n",
              "    (() => {\n",
              "      let quickchartButtonEl =\n",
              "        document.querySelector('#df-6feebed6-b24f-40ae-abfb-369733752c89 button');\n",
              "      quickchartButtonEl.style.display =\n",
              "        google.colab.kernel.accessAllowed ? 'block' : 'none';\n",
              "    })();\n",
              "  </script>\n",
              "</div>\n",
              "    </div>\n",
              "  </div>\n"
            ]
          },
          "metadata": {},
          "execution_count": 6
        }
      ],
      "source": [
        "film_deaths.describe()"
      ]
    },
    {
      "cell_type": "markdown",
      "metadata": {
        "id": "_tNJfcv6GIWG"
      },
      "source": [
        "In jupyter and jupyter notebook it is possible to see a list of all possible functions and attributes by typing the name of the object followed by .<Tab> for example in the above case if we type film_deaths.<Tab> it show the columns available (these are attributes in pandas dataframes) such as Body_Count, and also functions, such as .describe().\n",
        "\n",
        "For functions we can also see the documentation about the function by following the name with a question mark. This will open a box with documentation at the bottom which can be closed with the x button."
      ]
    },
    {
      "cell_type": "code",
      "execution_count": null,
      "metadata": {
        "id": "__8ZgNiLGIWG",
        "outputId": "e214ff65-b3e6-41c4-f0dd-cc7c7b1404ea",
        "colab": {
          "base_uri": "https://localhost:8080/"
        }
      },
      "outputs": [
        {
          "output_type": "stream",
          "name": "stdout",
          "text": [
            "0      2002\n",
            "1      2007\n",
            "2      2006\n",
            "3      1999\n",
            "4      1971\n",
            "       ... \n",
            "416    2007\n",
            "417    1967\n",
            "418    2007\n",
            "419    2001\n",
            "420    1964\n",
            "Name: Year, Length: 421, dtype: int64\n"
          ]
        }
      ],
      "source": [
        "print(film_deaths['Year'])\n",
        "#print(film_deaths['Body_Count'])"
      ]
    },
    {
      "cell_type": "markdown",
      "metadata": {
        "id": "J9Ib5FLsGIWJ"
      },
      "source": [
        "This shows the number of deaths per film across the years. We can plot the data as follows."
      ]
    },
    {
      "cell_type": "code",
      "execution_count": null,
      "metadata": {
        "id": "WPWVU7i2GIWJ",
        "outputId": "4bd78bcc-d168-4db5-80d3-1a8288cb0ecc",
        "colab": {
          "base_uri": "https://localhost:8080/",
          "height": 448
        }
      },
      "outputs": [
        {
          "output_type": "execute_result",
          "data": {
            "text/plain": [
              "[<matplotlib.lines.Line2D at 0x78c0b6712740>]"
            ]
          },
          "metadata": {},
          "execution_count": 8
        },
        {
          "output_type": "display_data",
          "data": {
            "text/plain": [
              "<Figure size 640x480 with 1 Axes>"
            ],
            "image/png": "[encoded data removed]"
          },
          "metadata": {}
        }
      ],
      "source": [
        "# this ensures the plot appears in the web browser\n",
        "%matplotlib inline\n",
        "import pylab as plt # this imports the plotting library in python\n",
        "\n",
        "plt.plot(film_deaths['Year'], film_deaths['Body_Count'], 'rx')"
      ]
    },
    {
      "cell_type": "markdown",
      "metadata": {
        "id": "FhXZrm2VGIWK"
      },
      "source": [
        "You may be curious what the arguments we give to plt.plot are for, now is the perfect time to look at the documentation"
      ]
    },
    {
      "cell_type": "code",
      "source": [
        "plt.plot?"
      ],
      "metadata": {
        "id": "7VJvS6PiP-fl"
      },
      "execution_count": null,
      "outputs": []
    },
    {
      "cell_type": "markdown",
      "metadata": {
        "id": "YxkOjEaYGIWK"
      },
      "source": [
        "We immediately note that some films have a lot of deaths, which prevent us seeing the detail of the main body of films. First lets identify the films with the most deaths."
      ]
    },
    {
      "cell_type": "code",
      "execution_count": null,
      "metadata": {
        "id": "NzTNyHu-GIWK",
        "outputId": "0302e61a-5bb8-44d1-cbe9-f163010af778",
        "colab": {
          "base_uri": "https://localhost:8080/",
          "height": 1000
        }
      },
      "outputs": [
        {
          "output_type": "execute_result",
          "data": {
            "text/plain": [
              "                                              Film  Year  Body_Count  \\\n",
              "60                               Dip huet gaai tau  1990         214   \n",
              "117                                    Equilibrium  2002         236   \n",
              "154                                     Grindhouse  2007         310   \n",
              "159                               Lat sau san taam  1992         307   \n",
              "193                              Kingdom of Heaven  2005         610   \n",
              "206                               The Last Samurai  2003         558   \n",
              "222          The Lord of the Rings: The Two Towers  2002         468   \n",
              "223  The Lord of the Rings: The Return of the King  2003         836   \n",
              "291                                          Rambo  2008         247   \n",
              "317                            Saving Private Ryan  1998         255   \n",
              "349                              Starship Troopers  1997         256   \n",
              "375                                        Titanic  1997         307   \n",
              "382                                           Troy  2004         572   \n",
              "406                               We Were Soldiers  2002         305   \n",
              "\n",
              "    MPAA_Rating                               Genre  \\\n",
              "60          NaN                Crime|Drama|Thriller   \n",
              "117           R        Action|Drama|Sci-Fi|Thriller   \n",
              "154           R              Action|Horror|Thriller   \n",
              "159           R         Action|Crime|Drama|Thriller   \n",
              "193           R  Action|Adventure|Drama|History|War   \n",
              "206           R            Action|Drama|History|War   \n",
              "222       PG-13            Action|Adventure|Fantasy   \n",
              "223       PG-13            Action|Adventure|Fantasy   \n",
              "291           R                 Action|Thriller|War   \n",
              "317           R                    Action|Drama|War   \n",
              "349           R                       Action|Sci-Fi   \n",
              "375       PG-13                       Drama|Romance   \n",
              "382           R                     Adventure|Drama   \n",
              "406           R            Action|Drama|History|War   \n",
              "\n",
              "                                              Director  \\\n",
              "60                                            John Woo   \n",
              "117                                        Kurt Wimmer   \n",
              "154  Robert Rodriguez|Eli Roth|Quentin Tarantino|Ed...   \n",
              "159                                           John Woo   \n",
              "193                                       Ridley Scott   \n",
              "206                                       Edward Zwick   \n",
              "222                                      Peter Jackson   \n",
              "223                                      Peter Jackson   \n",
              "291                                 Sylvester Stallone   \n",
              "317                                   Steven Spielberg   \n",
              "349                                     Paul Verhoeven   \n",
              "375                                      James Cameron   \n",
              "382                                  Wolfgang Petersen   \n",
              "406                                    Randall Wallace   \n",
              "\n",
              "                                                Actors  Length_Minutes  \\\n",
              "60   Tony Leung Chiu Wai|Jacky Cheung|Waise Lee|Sim...             136   \n",
              "117  Christian Bale|Dominic Purcell|Sean Bean|Chris...             107   \n",
              "154  Kurt Russell|Zoë Bell|Rosario Dawson|Vanessa F...             191   \n",
              "159  Yun-Fat Chow|Tony Leung Chiu Wai|Teresa Mo|Phi...             128   \n",
              "193  Martin Hancock|Michael Sheen|Nathalie Cox|Eriq...             144   \n",
              "206  Ken Watanabe|Tom Cruise|William Atherton|Chad ...             154   \n",
              "222  Bruce Allpress|Sean Astin|John Bach|Sala Baker...             179   \n",
              "223  Noel Appleby|Alexandra Astin|Sean Astin|David ...             201   \n",
              "291  Sylvester Stallone|Julie Benz|Matthew Marsden|...              92   \n",
              "317  Tom Hanks|Tom Sizemore|Edward Burns|Barry Pepp...             169   \n",
              "349  Casper Van Dien|Dina Meyer|Denise Richards|Jak...             129   \n",
              "375  Leonardo DiCaprio|Kate Winslet|Billy Zane|Kath...             194   \n",
              "382  Julian Glover|Brian Cox|Nathan Jones|Adoni Mar...             163   \n",
              "406  Mel Gibson|Madeleine Stowe|Greg Kinnear|Sam El...             138   \n",
              "\n",
              "     IMDB_Rating  \n",
              "60           7.7  \n",
              "117          7.6  \n",
              "154          7.7  \n",
              "159          8.0  \n",
              "193          7.2  \n",
              "206          7.7  \n",
              "222          8.8  \n",
              "223          8.9  \n",
              "291          7.1  \n",
              "317          8.6  \n",
              "349          7.2  \n",
              "375          7.7  \n",
              "382          7.2  \n",
              "406          7.1  "
            ],
            "text/html": [
              "\n",
              "  <div id=\"df-4b0870a7-dd36-4271-8479-36d84df36ce6\" class=\"colab-df-container\">\n",
              "    <div>\n",
              "<style scoped>\n",
              "    .dataframe tbody tr th:only-of-type {\n",
              "        vertical-align: middle;\n",
              "    }\n",
              "\n",
              "    .dataframe tbody tr th {\n",
              "        vertical-align: top;\n",
              "    }\n",
              "\n",
              "    .dataframe thead th {\n",
              "        text-align: right;\n",
              "    }\n",
              "</style>\n",
              "<table border=\"1\" class=\"dataframe\">\n",
              "  <thead>\n",
              "    <tr style=\"text-align: right;\">\n",
              "      <th></th>\n",
              "      <th>Film</th>\n",
              "      <th>Year</th>\n",
              "      <th>Body_Count</th>\n",
              "      <th>MPAA_Rating</th>\n",
              "      <th>Genre</th>\n",
              "      <th>Director</th>\n",
              "      <th>Actors</th>\n",
              "      <th>Length_Minutes</th>\n",
              "      <th>IMDB_Rating</th>\n",
              "    </tr>\n",
              "  </thead>\n",
              "  <tbody>\n",
              "    <tr>\n",
              "      <th>60</th>\n",
              "      <td>Dip huet gaai tau</td>\n",
              "      <td>1990</td>\n",
              "      <td>214</td>\n",
              "      <td>NaN</td>\n",
              "      <td>Crime|Drama|Thriller</td>\n",
              "      <td>John Woo</td>\n",
              "      <td>Tony Leung Chiu Wai|Jacky Cheung|Waise Lee|Sim...</td>\n",
              "      <td>136</td>\n",
              "      <td>7.7</td>\n",
              "    </tr>\n",
              "    <tr>\n",
              "      <th>117</th>\n",
              "      <td>Equilibrium</td>\n",
              "      <td>2002</td>\n",
              "      <td>236</td>\n",
              "      <td>R</td>\n",
              "      <td>Action|Drama|Sci-Fi|Thriller</td>\n",
              "      <td>Kurt Wimmer</td>\n",
              "      <td>Christian Bale|Dominic Purcell|Sean Bean|Chris...</td>\n",
              "      <td>107</td>\n",
              "      <td>7.6</td>\n",
              "    </tr>\n",
              "    <tr>\n",
              "      <th>154</th>\n",
              "      <td>Grindhouse</td>\n",
              "      <td>2007</td>\n",
              "      <td>310</td>\n",
              "      <td>R</td>\n",
              "      <td>Action|Horror|Thriller</td>\n",
              "      <td>Robert Rodriguez|Eli Roth|Quentin Tarantino|Ed...</td>\n",
              "      <td>Kurt Russell|Zoë Bell|Rosario Dawson|Vanessa F...</td>\n",
              "      <td>191</td>\n",
              "      <td>7.7</td>\n",
              "    </tr>\n",
              "    <tr>\n",
              "      <th>159</th>\n",
              "      <td>Lat sau san taam</td>\n",
              "      <td>1992</td>\n",
              "      <td>307</td>\n",
              "      <td>R</td>\n",
              "      <td>Action|Crime|Drama|Thriller</td>\n",
              "      <td>John Woo</td>\n",
              "      <td>Yun-Fat Chow|Tony Leung Chiu Wai|Teresa Mo|Phi...</td>\n",
              "      <td>128</td>\n",
              "      <td>8.0</td>\n",
              "    </tr>\n",
              "    <tr>\n",
              "      <th>193</th>\n",
              "      <td>Kingdom of Heaven</td>\n",
              "      <td>2005</td>\n",
              "      <td>610</td>\n",
              "      <td>R</td>\n",
              "      <td>Action|Adventure|Drama|History|War</td>\n",
              "      <td>Ridley Scott</td>\n",
              "      <td>Martin Hancock|Michael Sheen|Nathalie Cox|Eriq...</td>\n",
              "      <td>144</td>\n",
              "      <td>7.2</td>\n",
              "    </tr>\n",
              "    <tr>\n",
              "      <th>206</th>\n",
              "      <td>The Last Samurai</td>\n",
              "      <td>2003</td>\n",
              "      <td>558</td>\n",
              "      <td>R</td>\n",
              "      <td>Action|Drama|History|War</td>\n",
              "      <td>Edward Zwick</td>\n",
              "      <td>Ken Watanabe|Tom Cruise|William Atherton|Chad ...</td>\n",
              "      <td>154</td>\n",
              "      <td>7.7</td>\n",
              "    </tr>\n",
              "    <tr>\n",
              "      <th>222</th>\n",
              "      <td>The Lord of the Rings: The Two Towers</td>\n",
              "      <td>2002</td>\n",
              "      <td>468</td>\n",
              "      <td>PG-13</td>\n",
              "      <td>Action|Adventure|Fantasy</td>\n",
              "      <td>Peter Jackson</td>\n",
              "      <td>Bruce Allpress|Sean Astin|John Bach|Sala Baker...</td>\n",
              "      <td>179</td>\n",
              "      <td>8.8</td>\n",
              "    </tr>\n",
              "    <tr>\n",
              "      <th>223</th>\n",
              "      <td>The Lord of the Rings: The Return of the King</td>\n",
              "      <td>2003</td>\n",
              "      <td>836</td>\n",
              "      <td>PG-13</td>\n",
              "      <td>Action|Adventure|Fantasy</td>\n",
              "      <td>Peter Jackson</td>\n",
              "      <td>Noel Appleby|Alexandra Astin|Sean Astin|David ...</td>\n",
              "      <td>201</td>\n",
              "      <td>8.9</td>\n",
              "    </tr>\n",
              "    <tr>\n",
              "      <th>291</th>\n",
              "      <td>Rambo</td>\n",
              "      <td>2008</td>\n",
              "      <td>247</td>\n",
              "      <td>R</td>\n",
              "      <td>Action|Thriller|War</td>\n",
              "      <td>Sylvester Stallone</td>\n",
              "      <td>Sylvester Stallone|Julie Benz|Matthew Marsden|...</td>\n",
              "      <td>92</td>\n",
              "      <td>7.1</td>\n",
              "    </tr>\n",
              "    <tr>\n",
              "      <th>317</th>\n",
              "      <td>Saving Private Ryan</td>\n",
              "      <td>1998</td>\n",
              "      <td>255</td>\n",
              "      <td>R</td>\n",
              "      <td>Action|Drama|War</td>\n",
              "      <td>Steven Spielberg</td>\n",
              "      <td>Tom Hanks|Tom Sizemore|Edward Burns|Barry Pepp...</td>\n",
              "      <td>169</td>\n",
              "      <td>8.6</td>\n",
              "    </tr>\n",
              "    <tr>\n",
              "      <th>349</th>\n",
              "      <td>Starship Troopers</td>\n",
              "      <td>1997</td>\n",
              "      <td>256</td>\n",
              "      <td>R</td>\n",
              "      <td>Action|Sci-Fi</td>\n",
              "      <td>Paul Verhoeven</td>\n",
              "      <td>Casper Van Dien|Dina Meyer|Denise Richards|Jak...</td>\n",
              "      <td>129</td>\n",
              "      <td>7.2</td>\n",
              "    </tr>\n",
              "    <tr>\n",
              "      <th>375</th>\n",
              "      <td>Titanic</td>\n",
              "      <td>1997</td>\n",
              "      <td>307</td>\n",
              "      <td>PG-13</td>\n",
              "      <td>Drama|Romance</td>\n",
              "      <td>James Cameron</td>\n",
              "      <td>Leonardo DiCaprio|Kate Winslet|Billy Zane|Kath...</td>\n",
              "      <td>194</td>\n",
              "      <td>7.7</td>\n",
              "    </tr>\n",
              "    <tr>\n",
              "      <th>382</th>\n",
              "      <td>Troy</td>\n",
              "      <td>2004</td>\n",
              "      <td>572</td>\n",
              "      <td>R</td>\n",
              "      <td>Adventure|Drama</td>\n",
              "      <td>Wolfgang Petersen</td>\n",
              "      <td>Julian Glover|Brian Cox|Nathan Jones|Adoni Mar...</td>\n",
              "      <td>163</td>\n",
              "      <td>7.2</td>\n",
              "    </tr>\n",
              "    <tr>\n",
              "      <th>406</th>\n",
              "      <td>We Were Soldiers</td>\n",
              "      <td>2002</td>\n",
              "      <td>305</td>\n",
              "      <td>R</td>\n",
              "      <td>Action|Drama|History|War</td>\n",
              "      <td>Randall Wallace</td>\n",
              "      <td>Mel Gibson|Madeleine Stowe|Greg Kinnear|Sam El...</td>\n",
              "      <td>138</td>\n",
              "      <td>7.1</td>\n",
              "    </tr>\n",
              "  </tbody>\n",
              "</table>\n",
              "</div>\n",
              "    <div class=\"colab-df-buttons\">\n",
              "\n",
              "  <div class=\"colab-df-container\">\n",
              "    <button class=\"colab-df-convert\" onclick=\"convertToInteractive('df-4b0870a7-dd36-4271-8479-36d84df36ce6')\"\n",
              "            title=\"Convert this dataframe to an interactive table.\"\n",
              "            style=\"display:none;\">\n",
              "\n",
              "  <svg xmlns=\"http://www.w3.org/2000/svg\" height=\"24px\" viewBox=\"0 -960 960 960\">\n",
              "    <path d=\"M120-120v-720h720v720H120Zm60-500h600v-160H180v160Zm220 220h160v-160H400v160Zm0 220h160v-160H400v160ZM180-400h160v-160H180v160Zm440 0h160v-160H620v160ZM180-180h160v-160H180v160Zm440 0h160v-160H620v160Z\"/>\n",
              "  </svg>\n",
              "    </button>\n",
              "\n",
              "  <style>\n",
              "    .colab-df-container {\n",
              "      display:flex;\n",
              "      gap: 12px;\n",
              "    }\n",
              "\n",
              "    .colab-df-convert {\n",
              "      background-color: #E8F0FE;\n",
              "      border: none;\n",
              "      border-radius: 50%;\n",
              "      cursor: pointer;\n",
              "      display: none;\n",
              "      fill: #1967D2;\n",
              "      height: 32px;\n",
              "      padding: 0 0 0 0;\n",
              "      width: 32px;\n",
              "    }\n",
              "\n",
              "    .colab-df-convert:hover {\n",
              "      background-color: #E2EBFA;\n",
              "      box-shadow: 0px 1px 2px rgba(60, 64, 67, 0.3), 0px 1px 3px 1px rgba(60, 64, 67, 0.15);\n",
              "      fill: #174EA6;\n",
              "    }\n",
              "\n",
              "    .colab-df-buttons div {\n",
              "      margin-bottom: 4px;\n",
              "    }\n",
              "\n",
              "    [theme=dark] .colab-df-convert {\n",
              "      background-color: #3B4455;\n",
              "      fill: #D2E3FC;\n",
              "    }\n",
              "\n",
              "    [theme=dark] .colab-df-convert:hover {\n",
              "      background-color: #434B5C;\n",
              "      box-shadow: 0px 1px 3px 1px rgba(0, 0, 0, 0.15);\n",
              "      filter: drop-shadow(0px 1px 2px rgba(0, 0, 0, 0.3));\n",
              "      fill: #FFFFFF;\n",
              "    }\n",
              "  </style>\n",
              "\n",
              "    <script>\n",
              "      const buttonEl =\n",
              "        document.querySelector('#df-4b0870a7-dd36-4271-8479-36d84df36ce6 button.colab-df-convert');\n",
              "      buttonEl.style.display =\n",
              "        google.colab.kernel.accessAllowed ? 'block' : 'none';\n",
              "\n",
              "      async function convertToInteractive(key) {\n",
              "        const element = document.querySelector('#df-4b0870a7-dd36-4271-8479-36d84df36ce6');\n",
              "        const dataTable =\n",
              "          await google.colab.kernel.invokeFunction('convertToInteractive',\n",
              "                                                    [key], {});\n",
              "        if (!dataTable) return;\n",
              "\n",
              "        const docLinkHtml = 'Like what you see? Visit the ' +\n",
              "          '<a target=\"_blank\" href=https://colab.research.google.com/notebooks/data_table.ipynb>data table notebook</a>'\n",
              "          + ' to learn more about interactive tables.';\n",
              "        element.innerHTML = '';\n",
              "        dataTable['output_type'] = 'display_data';\n",
              "        await google.colab.output.renderOutput(dataTable, element);\n",
              "        const docLink = document.createElement('div');\n",
              "        docLink.innerHTML = docLinkHtml;\n",
              "        element.appendChild(docLink);\n",
              "      }\n",
              "    </script>\n",
              "  </div>\n",
              "\n",
              "\n",
              "<div id=\"df-194b5e0c-3369-4d6f-ac20-b4e643f06979\">\n",
              "  <button class=\"colab-df-quickchart\" onclick=\"quickchart('df-194b5e0c-3369-4d6f-ac20-b4e643f06979')\"\n",
              "            title=\"Suggest charts.\"\n",
              "            style=\"display:none;\">\n",
              "\n",
              "<svg xmlns=\"http://www.w3.org/2000/svg\" height=\"24px\"viewBox=\"0 0 24 24\"\n",
              "     width=\"24px\">\n",
              "    <g>\n",
              "        <path d=\"M19 3H5c-1.1 0-2 .9-2 2v14c0 1.1.9 2 2 2h14c1.1 0 2-.9 2-2V5c0-1.1-.9-2-2-2zM9 17H7v-7h2v7zm4 0h-2V7h2v10zm4 0h-2v-4h2v4z\"/>\n",
              "    </g>\n",
              "</svg>\n",
              "  </button>\n",
              "\n",
              "<style>\n",
              "  .colab-df-quickchart {\n",
              "      --bg-color: #E8F0FE;\n",
              "      --fill-color: #1967D2;\n",
              "      --hover-bg-color: #E2EBFA;\n",
              "      --hover-fill-color: #174EA6;\n",
              "      --disabled-fill-color: #AAA;\n",
              "      --disabled-bg-color: #DDD;\n",
              "  }\n",
              "\n",
              "  [theme=dark] .colab-df-quickchart {\n",
              "      --bg-color: #3B4455;\n",
              "      --fill-color: #D2E3FC;\n",
              "      --hover-bg-color: #434B5C;\n",
              "      --hover-fill-color: #FFFFFF;\n",
              "      --disabled-bg-color: #3B4455;\n",
              "      --disabled-fill-color: #666;\n",
              "  }\n",
              "\n",
              "  .colab-df-quickchart {\n",
              "    background-color: var(--bg-color);\n",
              "    border: none;\n",
              "    border-radius: 50%;\n",
              "    cursor: pointer;\n",
              "    display: none;\n",
              "    fill: var(--fill-color);\n",
              "    height: 32px;\n",
              "    padding: 0;\n",
              "    width: 32px;\n",
              "  }\n",
              "\n",
              "  .colab-df-quickchart:hover {\n",
              "    background-color: var(--hover-bg-color);\n",
              "    box-shadow: 0 1px 2px rgba(60, 64, 67, 0.3), 0 1px 3px 1px rgba(60, 64, 67, 0.15);\n",
              "    fill: var(--button-hover-fill-color);\n",
              "  }\n",
              "\n",
              "  .colab-df-quickchart-complete:disabled,\n",
              "  .colab-df-quickchart-complete:disabled:hover {\n",
              "    background-color: var(--disabled-bg-color);\n",
              "    fill: var(--disabled-fill-color);\n",
              "    box-shadow: none;\n",
              "  }\n",
              "\n",
              "  .colab-df-spinner {\n",
              "    border: 2px solid var(--fill-color);\n",
              "    border-color: transparent;\n",
              "    border-bottom-color: var(--fill-color);\n",
              "    animation:\n",
              "      spin 1s steps(1) infinite;\n",
              "  }\n",
              "\n",
              "  @keyframes spin {\n",
              "    0% {\n",
              "      border-color: transparent;\n",
              "      border-bottom-color: var(--fill-color);\n",
              "      border-left-color: var(--fill-color);\n",
              "    }\n",
              "    20% {\n",
              "      border-color: transparent;\n",
              "      border-left-color: var(--fill-color);\n",
              "      border-top-color: var(--fill-color);\n",
              "    }\n",
              "    30% {\n",
              "      border-color: transparent;\n",
              "      border-left-color: var(--fill-color);\n",
              "      border-top-color: var(--fill-color);\n",
              "      border-right-color: var(--fill-color);\n",
              "    }\n",
              "    40% {\n",
              "      border-color: transparent;\n",
              "      border-right-color: var(--fill-color);\n",
              "      border-top-color: var(--fill-color);\n",
              "    }\n",
              "    60% {\n",
              "      border-color: transparent;\n",
              "      border-right-color: var(--fill-color);\n",
              "    }\n",
              "    80% {\n",
              "      border-color: transparent;\n",
              "      border-right-color: var(--fill-color);\n",
              "      border-bottom-color: var(--fill-color);\n",
              "    }\n",
              "    90% {\n",
              "      border-color: transparent;\n",
              "      border-bottom-color: var(--fill-color);\n",
              "    }\n",
              "  }\n",
              "</style>\n",
              "\n",
              "  <script>\n",
              "    async function quickchart(key) {\n",
              "      const quickchartButtonEl =\n",
              "        document.querySelector('#' + key + ' button');\n",
              "      quickchartButtonEl.disabled = true;  // To prevent multiple clicks.\n",
              "      quickchartButtonEl.classList.add('colab-df-spinner');\n",
              "      try {\n",
              "        const charts = await google.colab.kernel.invokeFunction(\n",
              "            'suggestCharts', [key], {});\n",
              "      } catch (error) {\n",
              "        console.error('Error during call to suggestCharts:', error);\n",
              "      }\n",
              "      quickchartButtonEl.classList.remove('colab-df-spinner');\n",
              "      quickchartButtonEl.classList.add('colab-df-quickchart-complete');\n",
              "    }\n",
              "    (() => {\n",
              "      let quickchartButtonEl =\n",
              "        document.querySelector('#df-194b5e0c-3369-4d6f-ac20-b4e643f06979 button');\n",
              "      quickchartButtonEl.style.display =\n",
              "        google.colab.kernel.accessAllowed ? 'block' : 'none';\n",
              "    })();\n",
              "  </script>\n",
              "</div>\n",
              "    </div>\n",
              "  </div>\n"
            ]
          },
          "metadata": {},
          "execution_count": 10
        }
      ],
      "source": [
        "film_deaths[film_deaths['Body_Count']>200]"
      ]
    },
    {
      "cell_type": "markdown",
      "metadata": {
        "id": "Y6_Ha3B4GIWL"
      },
      "source": [
        "Here we are using the command `film_deaths['Body_Count']>200` to index the films in the pandas data frame which have over 200 deaths. To sort them in order we can also use the `sort` command. The result of this command on its own is a data series of `True` and `False` values. However, when it is passed to the `film_deaths` data frame it returns a new data frame which contains only those values for which the data series is `True`. We can also sort the result. To sort the result by the values in the `Body_Count` column in *descending* order we use the following command."
      ]
    },
    {
      "cell_type": "code",
      "execution_count": null,
      "metadata": {
        "id": "oj9Q9SRKGIWL",
        "outputId": "b561d9dc-4674-42b2-ca7e-8dfd72a6e5f2",
        "colab": {
          "base_uri": "https://localhost:8080/",
          "height": 1000
        }
      },
      "outputs": [
        {
          "output_type": "execute_result",
          "data": {
            "text/plain": [
              "                                              Film  Year  Body_Count  \\\n",
              "223  The Lord of the Rings: The Return of the King  2003         836   \n",
              "193                              Kingdom of Heaven  2005         610   \n",
              "382                                           Troy  2004         572   \n",
              "206                               The Last Samurai  2003         558   \n",
              "222          The Lord of the Rings: The Two Towers  2002         468   \n",
              "154                                     Grindhouse  2007         310   \n",
              "159                               Lat sau san taam  1992         307   \n",
              "375                                        Titanic  1997         307   \n",
              "406                               We Were Soldiers  2002         305   \n",
              "349                              Starship Troopers  1997         256   \n",
              "317                            Saving Private Ryan  1998         255   \n",
              "291                                          Rambo  2008         247   \n",
              "117                                    Equilibrium  2002         236   \n",
              "60                               Dip huet gaai tau  1990         214   \n",
              "\n",
              "    MPAA_Rating                               Genre  \\\n",
              "223       PG-13            Action|Adventure|Fantasy   \n",
              "193           R  Action|Adventure|Drama|History|War   \n",
              "382           R                     Adventure|Drama   \n",
              "206           R            Action|Drama|History|War   \n",
              "222       PG-13            Action|Adventure|Fantasy   \n",
              "154           R              Action|Horror|Thriller   \n",
              "159           R         Action|Crime|Drama|Thriller   \n",
              "375       PG-13                       Drama|Romance   \n",
              "406           R            Action|Drama|History|War   \n",
              "349           R                       Action|Sci-Fi   \n",
              "317           R                    Action|Drama|War   \n",
              "291           R                 Action|Thriller|War   \n",
              "117           R        Action|Drama|Sci-Fi|Thriller   \n",
              "60          NaN                Crime|Drama|Thriller   \n",
              "\n",
              "                                              Director  \\\n",
              "223                                      Peter Jackson   \n",
              "193                                       Ridley Scott   \n",
              "382                                  Wolfgang Petersen   \n",
              "206                                       Edward Zwick   \n",
              "222                                      Peter Jackson   \n",
              "154  Robert Rodriguez|Eli Roth|Quentin Tarantino|Ed...   \n",
              "159                                           John Woo   \n",
              "375                                      James Cameron   \n",
              "406                                    Randall Wallace   \n",
              "349                                     Paul Verhoeven   \n",
              "317                                   Steven Spielberg   \n",
              "291                                 Sylvester Stallone   \n",
              "117                                        Kurt Wimmer   \n",
              "60                                            John Woo   \n",
              "\n",
              "                                                Actors  Length_Minutes  \\\n",
              "223  Noel Appleby|Alexandra Astin|Sean Astin|David ...             201   \n",
              "193  Martin Hancock|Michael Sheen|Nathalie Cox|Eriq...             144   \n",
              "382  Julian Glover|Brian Cox|Nathan Jones|Adoni Mar...             163   \n",
              "206  Ken Watanabe|Tom Cruise|William Atherton|Chad ...             154   \n",
              "222  Bruce Allpress|Sean Astin|John Bach|Sala Baker...             179   \n",
              "154  Kurt Russell|Zoë Bell|Rosario Dawson|Vanessa F...             191   \n",
              "159  Yun-Fat Chow|Tony Leung Chiu Wai|Teresa Mo|Phi...             128   \n",
              "375  Leonardo DiCaprio|Kate Winslet|Billy Zane|Kath...             194   \n",
              "406  Mel Gibson|Madeleine Stowe|Greg Kinnear|Sam El...             138   \n",
              "349  Casper Van Dien|Dina Meyer|Denise Richards|Jak...             129   \n",
              "317  Tom Hanks|Tom Sizemore|Edward Burns|Barry Pepp...             169   \n",
              "291  Sylvester Stallone|Julie Benz|Matthew Marsden|...              92   \n",
              "117  Christian Bale|Dominic Purcell|Sean Bean|Chris...             107   \n",
              "60   Tony Leung Chiu Wai|Jacky Cheung|Waise Lee|Sim...             136   \n",
              "\n",
              "     IMDB_Rating  \n",
              "223          8.9  \n",
              "193          7.2  \n",
              "382          7.2  \n",
              "206          7.7  \n",
              "222          8.8  \n",
              "154          7.7  \n",
              "159          8.0  \n",
              "375          7.7  \n",
              "406          7.1  \n",
              "349          7.2  \n",
              "317          8.6  \n",
              "291          7.1  \n",
              "117          7.6  \n",
              "60           7.7  "
            ],
            "text/html": [
              "\n",
              "  <div id=\"df-ec705435-5800-4620-b79c-bb21378439b5\" class=\"colab-df-container\">\n",
              "    <div>\n",
              "<style scoped>\n",
              "    .dataframe tbody tr th:only-of-type {\n",
              "        vertical-align: middle;\n",
              "    }\n",
              "\n",
              "    .dataframe tbody tr th {\n",
              "        vertical-align: top;\n",
              "    }\n",
              "\n",
              "    .dataframe thead th {\n",
              "        text-align: right;\n",
              "    }\n",
              "</style>\n",
              "<table border=\"1\" class=\"dataframe\">\n",
              "  <thead>\n",
              "    <tr style=\"text-align: right;\">\n",
              "      <th></th>\n",
              "      <th>Film</th>\n",
              "      <th>Year</th>\n",
              "      <th>Body_Count</th>\n",
              "      <th>MPAA_Rating</th>\n",
              "      <th>Genre</th>\n",
              "      <th>Director</th>\n",
              "      <th>Actors</th>\n",
              "      <th>Length_Minutes</th>\n",
              "      <th>IMDB_Rating</th>\n",
              "    </tr>\n",
              "  </thead>\n",
              "  <tbody>\n",
              "    <tr>\n",
              "      <th>223</th>\n",
              "      <td>The Lord of the Rings: The Return of the King</td>\n",
              "      <td>2003</td>\n",
              "      <td>836</td>\n",
              "      <td>PG-13</td>\n",
              "      <td>Action|Adventure|Fantasy</td>\n",
              "      <td>Peter Jackson</td>\n",
              "      <td>Noel Appleby|Alexandra Astin|Sean Astin|David ...</td>\n",
              "      <td>201</td>\n",
              "      <td>8.9</td>\n",
              "    </tr>\n",
              "    <tr>\n",
              "      <th>193</th>\n",
              "      <td>Kingdom of Heaven</td>\n",
              "      <td>2005</td>\n",
              "      <td>610</td>\n",
              "      <td>R</td>\n",
              "      <td>Action|Adventure|Drama|History|War</td>\n",
              "      <td>Ridley Scott</td>\n",
              "      <td>Martin Hancock|Michael Sheen|Nathalie Cox|Eriq...</td>\n",
              "      <td>144</td>\n",
              "      <td>7.2</td>\n",
              "    </tr>\n",
              "    <tr>\n",
              "      <th>382</th>\n",
              "      <td>Troy</td>\n",
              "      <td>2004</td>\n",
              "      <td>572</td>\n",
              "      <td>R</td>\n",
              "      <td>Adventure|Drama</td>\n",
              "      <td>Wolfgang Petersen</td>\n",
              "      <td>Julian Glover|Brian Cox|Nathan Jones|Adoni Mar...</td>\n",
              "      <td>163</td>\n",
              "      <td>7.2</td>\n",
              "    </tr>\n",
              "    <tr>\n",
              "      <th>206</th>\n",
              "      <td>The Last Samurai</td>\n",
              "      <td>2003</td>\n",
              "      <td>558</td>\n",
              "      <td>R</td>\n",
              "      <td>Action|Drama|History|War</td>\n",
              "      <td>Edward Zwick</td>\n",
              "      <td>Ken Watanabe|Tom Cruise|William Atherton|Chad ...</td>\n",
              "      <td>154</td>\n",
              "      <td>7.7</td>\n",
              "    </tr>\n",
              "    <tr>\n",
              "      <th>222</th>\n",
              "      <td>The Lord of the Rings: The Two Towers</td>\n",
              "      <td>2002</td>\n",
              "      <td>468</td>\n",
              "      <td>PG-13</td>\n",
              "      <td>Action|Adventure|Fantasy</td>\n",
              "      <td>Peter Jackson</td>\n",
              "      <td>Bruce Allpress|Sean Astin|John Bach|Sala Baker...</td>\n",
              "      <td>179</td>\n",
              "      <td>8.8</td>\n",
              "    </tr>\n",
              "    <tr>\n",
              "      <th>154</th>\n",
              "      <td>Grindhouse</td>\n",
              "      <td>2007</td>\n",
              "      <td>310</td>\n",
              "      <td>R</td>\n",
              "      <td>Action|Horror|Thriller</td>\n",
              "      <td>Robert Rodriguez|Eli Roth|Quentin Tarantino|Ed...</td>\n",
              "      <td>Kurt Russell|Zoë Bell|Rosario Dawson|Vanessa F...</td>\n",
              "      <td>191</td>\n",
              "      <td>7.7</td>\n",
              "    </tr>\n",
              "    <tr>\n",
              "      <th>159</th>\n",
              "      <td>Lat sau san taam</td>\n",
              "      <td>1992</td>\n",
              "      <td>307</td>\n",
              "      <td>R</td>\n",
              "      <td>Action|Crime|Drama|Thriller</td>\n",
              "      <td>John Woo</td>\n",
              "      <td>Yun-Fat Chow|Tony Leung Chiu Wai|Teresa Mo|Phi...</td>\n",
              "      <td>128</td>\n",
              "      <td>8.0</td>\n",
              "    </tr>\n",
              "    <tr>\n",
              "      <th>375</th>\n",
              "      <td>Titanic</td>\n",
              "      <td>1997</td>\n",
              "      <td>307</td>\n",
              "      <td>PG-13</td>\n",
              "      <td>Drama|Romance</td>\n",
              "      <td>James Cameron</td>\n",
              "      <td>Leonardo DiCaprio|Kate Winslet|Billy Zane|Kath...</td>\n",
              "      <td>194</td>\n",
              "      <td>7.7</td>\n",
              "    </tr>\n",
              "    <tr>\n",
              "      <th>406</th>\n",
              "      <td>We Were Soldiers</td>\n",
              "      <td>2002</td>\n",
              "      <td>305</td>\n",
              "      <td>R</td>\n",
              "      <td>Action|Drama|History|War</td>\n",
              "      <td>Randall Wallace</td>\n",
              "      <td>Mel Gibson|Madeleine Stowe|Greg Kinnear|Sam El...</td>\n",
              "      <td>138</td>\n",
              "      <td>7.1</td>\n",
              "    </tr>\n",
              "    <tr>\n",
              "      <th>349</th>\n",
              "      <td>Starship Troopers</td>\n",
              "      <td>1997</td>\n",
              "      <td>256</td>\n",
              "      <td>R</td>\n",
              "      <td>Action|Sci-Fi</td>\n",
              "      <td>Paul Verhoeven</td>\n",
              "      <td>Casper Van Dien|Dina Meyer|Denise Richards|Jak...</td>\n",
              "      <td>129</td>\n",
              "      <td>7.2</td>\n",
              "    </tr>\n",
              "    <tr>\n",
              "      <th>317</th>\n",
              "      <td>Saving Private Ryan</td>\n",
              "      <td>1998</td>\n",
              "      <td>255</td>\n",
              "      <td>R</td>\n",
              "      <td>Action|Drama|War</td>\n",
              "      <td>Steven Spielberg</td>\n",
              "      <td>Tom Hanks|Tom Sizemore|Edward Burns|Barry Pepp...</td>\n",
              "      <td>169</td>\n",
              "      <td>8.6</td>\n",
              "    </tr>\n",
              "    <tr>\n",
              "      <th>291</th>\n",
              "      <td>Rambo</td>\n",
              "      <td>2008</td>\n",
              "      <td>247</td>\n",
              "      <td>R</td>\n",
              "      <td>Action|Thriller|War</td>\n",
              "      <td>Sylvester Stallone</td>\n",
              "      <td>Sylvester Stallone|Julie Benz|Matthew Marsden|...</td>\n",
              "      <td>92</td>\n",
              "      <td>7.1</td>\n",
              "    </tr>\n",
              "    <tr>\n",
              "      <th>117</th>\n",
              "      <td>Equilibrium</td>\n",
              "      <td>2002</td>\n",
              "      <td>236</td>\n",
              "      <td>R</td>\n",
              "      <td>Action|Drama|Sci-Fi|Thriller</td>\n",
              "      <td>Kurt Wimmer</td>\n",
              "      <td>Christian Bale|Dominic Purcell|Sean Bean|Chris...</td>\n",
              "      <td>107</td>\n",
              "      <td>7.6</td>\n",
              "    </tr>\n",
              "    <tr>\n",
              "      <th>60</th>\n",
              "      <td>Dip huet gaai tau</td>\n",
              "      <td>1990</td>\n",
              "      <td>214</td>\n",
              "      <td>NaN</td>\n",
              "      <td>Crime|Drama|Thriller</td>\n",
              "      <td>John Woo</td>\n",
              "      <td>Tony Leung Chiu Wai|Jacky Cheung|Waise Lee|Sim...</td>\n",
              "      <td>136</td>\n",
              "      <td>7.7</td>\n",
              "    </tr>\n",
              "  </tbody>\n",
              "</table>\n",
              "</div>\n",
              "    <div class=\"colab-df-buttons\">\n",
              "\n",
              "  <div class=\"colab-df-container\">\n",
              "    <button class=\"colab-df-convert\" onclick=\"convertToInteractive('df-ec705435-5800-4620-b79c-bb21378439b5')\"\n",
              "            title=\"Convert this dataframe to an interactive table.\"\n",
              "            style=\"display:none;\">\n",
              "\n",
              "  <svg xmlns=\"http://www.w3.org/2000/svg\" height=\"24px\" viewBox=\"0 -960 960 960\">\n",
              "    <path d=\"M120-120v-720h720v720H120Zm60-500h600v-160H180v160Zm220 220h160v-160H400v160Zm0 220h160v-160H400v160ZM180-400h160v-160H180v160Zm440 0h160v-160H620v160ZM180-180h160v-160H180v160Zm440 0h160v-160H620v160Z\"/>\n",
              "  </svg>\n",
              "    </button>\n",
              "\n",
              "  <style>\n",
              "    .colab-df-container {\n",
              "      display:flex;\n",
              "      gap: 12px;\n",
              "    }\n",
              "\n",
              "    .colab-df-convert {\n",
              "      background-color: #E8F0FE;\n",
              "      border: none;\n",
              "      border-radius: 50%;\n",
              "      cursor: pointer;\n",
              "      display: none;\n",
              "      fill: #1967D2;\n",
              "      height: 32px;\n",
              "      padding: 0 0 0 0;\n",
              "      width: 32px;\n",
              "    }\n",
              "\n",
              "    .colab-df-convert:hover {\n",
              "      background-color: #E2EBFA;\n",
              "      box-shadow: 0px 1px 2px rgba(60, 64, 67, 0.3), 0px 1px 3px 1px rgba(60, 64, 67, 0.15);\n",
              "      fill: #174EA6;\n",
              "    }\n",
              "\n",
              "    .colab-df-buttons div {\n",
              "      margin-bottom: 4px;\n",
              "    }\n",
              "\n",
              "    [theme=dark] .colab-df-convert {\n",
              "      background-color: #3B4455;\n",
              "      fill: #D2E3FC;\n",
              "    }\n",
              "\n",
              "    [theme=dark] .colab-df-convert:hover {\n",
              "      background-color: #434B5C;\n",
              "      box-shadow: 0px 1px 3px 1px rgba(0, 0, 0, 0.15);\n",
              "      filter: drop-shadow(0px 1px 2px rgba(0, 0, 0, 0.3));\n",
              "      fill: #FFFFFF;\n",
              "    }\n",
              "  </style>\n",
              "\n",
              "    <script>\n",
              "      const buttonEl =\n",
              "        document.querySelector('#df-ec705435-5800-4620-b79c-bb21378439b5 button.colab-df-convert');\n",
              "      buttonEl.style.display =\n",
              "        google.colab.kernel.accessAllowed ? 'block' : 'none';\n",
              "\n",
              "      async function convertToInteractive(key) {\n",
              "        const element = document.querySelector('#df-ec705435-5800-4620-b79c-bb21378439b5');\n",
              "        const dataTable =\n",
              "          await google.colab.kernel.invokeFunction('convertToInteractive',\n",
              "                                                    [key], {});\n",
              "        if (!dataTable) return;\n",
              "\n",
              "        const docLinkHtml = 'Like what you see? Visit the ' +\n",
              "          '<a target=\"_blank\" href=https://colab.research.google.com/notebooks/data_table.ipynb>data table notebook</a>'\n",
              "          + ' to learn more about interactive tables.';\n",
              "        element.innerHTML = '';\n",
              "        dataTable['output_type'] = 'display_data';\n",
              "        await google.colab.output.renderOutput(dataTable, element);\n",
              "        const docLink = document.createElement('div');\n",
              "        docLink.innerHTML = docLinkHtml;\n",
              "        element.appendChild(docLink);\n",
              "      }\n",
              "    </script>\n",
              "  </div>\n",
              "\n",
              "\n",
              "<div id=\"df-340c1d93-8f72-4fbb-8465-b436e879fc3e\">\n",
              "  <button class=\"colab-df-quickchart\" onclick=\"quickchart('df-340c1d93-8f72-4fbb-8465-b436e879fc3e')\"\n",
              "            title=\"Suggest charts.\"\n",
              "            style=\"display:none;\">\n",
              "\n",
              "<svg xmlns=\"http://www.w3.org/2000/svg\" height=\"24px\"viewBox=\"0 0 24 24\"\n",
              "     width=\"24px\">\n",
              "    <g>\n",
              "        <path d=\"M19 3H5c-1.1 0-2 .9-2 2v14c0 1.1.9 2 2 2h14c1.1 0 2-.9 2-2V5c0-1.1-.9-2-2-2zM9 17H7v-7h2v7zm4 0h-2V7h2v10zm4 0h-2v-4h2v4z\"/>\n",
              "    </g>\n",
              "</svg>\n",
              "  </button>\n",
              "\n",
              "<style>\n",
              "  .colab-df-quickchart {\n",
              "      --bg-color: #E8F0FE;\n",
              "      --fill-color: #1967D2;\n",
              "      --hover-bg-color: #E2EBFA;\n",
              "      --hover-fill-color: #174EA6;\n",
              "      --disabled-fill-color: #AAA;\n",
              "      --disabled-bg-color: #DDD;\n",
              "  }\n",
              "\n",
              "  [theme=dark] .colab-df-quickchart {\n",
              "      --bg-color: #3B4455;\n",
              "      --fill-color: #D2E3FC;\n",
              "      --hover-bg-color: #434B5C;\n",
              "      --hover-fill-color: #FFFFFF;\n",
              "      --disabled-bg-color: #3B4455;\n",
              "      --disabled-fill-color: #666;\n",
              "  }\n",
              "\n",
              "  .colab-df-quickchart {\n",
              "    background-color: var(--bg-color);\n",
              "    border: none;\n",
              "    border-radius: 50%;\n",
              "    cursor: pointer;\n",
              "    display: none;\n",
              "    fill: var(--fill-color);\n",
              "    height: 32px;\n",
              "    padding: 0;\n",
              "    width: 32px;\n",
              "  }\n",
              "\n",
              "  .colab-df-quickchart:hover {\n",
              "    background-color: var(--hover-bg-color);\n",
              "    box-shadow: 0 1px 2px rgba(60, 64, 67, 0.3), 0 1px 3px 1px rgba(60, 64, 67, 0.15);\n",
              "    fill: var(--button-hover-fill-color);\n",
              "  }\n",
              "\n",
              "  .colab-df-quickchart-complete:disabled,\n",
              "  .colab-df-quickchart-complete:disabled:hover {\n",
              "    background-color: var(--disabled-bg-color);\n",
              "    fill: var(--disabled-fill-color);\n",
              "    box-shadow: none;\n",
              "  }\n",
              "\n",
              "  .colab-df-spinner {\n",
              "    border: 2px solid var(--fill-color);\n",
              "    border-color: transparent;\n",
              "    border-bottom-color: var(--fill-color);\n",
              "    animation:\n",
              "      spin 1s steps(1) infinite;\n",
              "  }\n",
              "\n",
              "  @keyframes spin {\n",
              "    0% {\n",
              "      border-color: transparent;\n",
              "      border-bottom-color: var(--fill-color);\n",
              "      border-left-color: var(--fill-color);\n",
              "    }\n",
              "    20% {\n",
              "      border-color: transparent;\n",
              "      border-left-color: var(--fill-color);\n",
              "      border-top-color: var(--fill-color);\n",
              "    }\n",
              "    30% {\n",
              "      border-color: transparent;\n",
              "      border-left-color: var(--fill-color);\n",
              "      border-top-color: var(--fill-color);\n",
              "      border-right-color: var(--fill-color);\n",
              "    }\n",
              "    40% {\n",
              "      border-color: transparent;\n",
              "      border-right-color: var(--fill-color);\n",
              "      border-top-color: var(--fill-color);\n",
              "    }\n",
              "    60% {\n",
              "      border-color: transparent;\n",
              "      border-right-color: var(--fill-color);\n",
              "    }\n",
              "    80% {\n",
              "      border-color: transparent;\n",
              "      border-right-color: var(--fill-color);\n",
              "      border-bottom-color: var(--fill-color);\n",
              "    }\n",
              "    90% {\n",
              "      border-color: transparent;\n",
              "      border-bottom-color: var(--fill-color);\n",
              "    }\n",
              "  }\n",
              "</style>\n",
              "\n",
              "  <script>\n",
              "    async function quickchart(key) {\n",
              "      const quickchartButtonEl =\n",
              "        document.querySelector('#' + key + ' button');\n",
              "      quickchartButtonEl.disabled = true;  // To prevent multiple clicks.\n",
              "      quickchartButtonEl.classList.add('colab-df-spinner');\n",
              "      try {\n",
              "        const charts = await google.colab.kernel.invokeFunction(\n",
              "            'suggestCharts', [key], {});\n",
              "      } catch (error) {\n",
              "        console.error('Error during call to suggestCharts:', error);\n",
              "      }\n",
              "      quickchartButtonEl.classList.remove('colab-df-spinner');\n",
              "      quickchartButtonEl.classList.add('colab-df-quickchart-complete');\n",
              "    }\n",
              "    (() => {\n",
              "      let quickchartButtonEl =\n",
              "        document.querySelector('#df-340c1d93-8f72-4fbb-8465-b436e879fc3e button');\n",
              "      quickchartButtonEl.style.display =\n",
              "        google.colab.kernel.accessAllowed ? 'block' : 'none';\n",
              "    })();\n",
              "  </script>\n",
              "</div>\n",
              "    </div>\n",
              "  </div>\n"
            ]
          },
          "metadata": {},
          "execution_count": 11
        }
      ],
      "source": [
        "film_deaths[film_deaths['Body_Count']>200].sort_values('Body_Count', ascending=False)"
      ]
    },
    {
      "cell_type": "markdown",
      "metadata": {
        "id": "L1RPC7gtGIWL"
      },
      "source": [
        "We now see that the 'Lord of the Rings' is a large outlier with a very large number of kills. We can try and determine how much of an outlier by histograming the data."
      ]
    },
    {
      "cell_type": "markdown",
      "metadata": {
        "id": "a6okiUWTGIWL"
      },
      "source": [
        "### Plotting the Data"
      ]
    },
    {
      "cell_type": "code",
      "execution_count": null,
      "metadata": {
        "id": "Wp1QO7SBGIWM",
        "outputId": "0251c5c6-4964-472b-81f4-9d0406fd039a",
        "colab": {
          "base_uri": "https://localhost:8080/",
          "height": 470
        }
      },
      "outputs": [
        {
          "output_type": "execute_result",
          "data": {
            "text/plain": [
              "Text(0.5, 1.0, 'Histogram of Film Kill Count')"
            ]
          },
          "metadata": {},
          "execution_count": 12
        },
        {
          "output_type": "display_data",
          "data": {
            "text/plain": [
              "<Figure size 640x480 with 1 Axes>"
            ],
            "image/png": "[encoded data removed]"
          },
          "metadata": {}
        }
      ],
      "source": [
        "film_deaths['Body_Count'].hist(bins=20) # histogram the data with 20 bins.\n",
        "plt.title('Histogram of Film Kill Count')"
      ]
    },
    {
      "cell_type": "markdown",
      "metadata": {
        "id": "g73jle2vGIWM"
      },
      "source": [
        "### Question 2\n",
        "Read on the internet about the following python libraries: `numpy`, `matplotlib`, `scipy` and `pandas`. What functionality does each provide in python. What is the `pylab` library and how does it relate to the other libraries?"
      ]
    },
    {
      "cell_type": "markdown",
      "metadata": {
        "id": "zCSD7w-dGIWM"
      },
      "source": [
        "#### Question 2 Answer\n",
        "\n",
        "1. **NumPy**:\n",
        "   - Functionality: NumPy is a fundamental library for scientific computing. It provides multi-dimensional array objects (called NumPy arrays) and numerous functions for array manipulation. It supports high-performance mathematical operations like linear algebra, Fourier transforms, and random number generation.\n",
        "\n",
        "2. **Matplotlib**:\n",
        "   - Functionality: Matplotlib is a library for creating 2D graphics and plots. It allows you to generate a wide range of static, dynamic, interactive, and high-quality charts and graphs. Matplotlib is often used in conjunction with NumPy for visualizing data.\n",
        "\n",
        "3. **SciPy**:\n",
        "   - Functionality: SciPy builds upon NumPy and offers many advanced features for scientific and engineering computing. It includes tools for optimization, signal processing, statistical analysis, integration, interpolation, and more. SciPy's modules make it easy to tackle complex scientific computing problems.\n",
        "\n",
        "4. **Pandas**:\n",
        "   - Functionality: Pandas is a library for data manipulation and analysis. It introduces two main data structures, DataFrame and Series, making data operations more straightforward. Pandas provides powerful tools for data filtering, manipulation, merging, and visualization.\n",
        "\n",
        "As for the \"pylab\" library, it's actually considered outdated and not recommended for use anymore. In the past, it attempted to merge NumPy, Matplotlib, and some SciPy functionality into one namespace for interactive computing and visualization. However, the current best practice is to import these libraries separately to have better control and organization of your code. Therefore, there's no need to specifically focus on the \"pylab\" library; instead, you can directly use NumPy, Matplotlib, SciPy, and Pandas to accomplish related tasks."
      ]
    },
    {
      "cell_type": "markdown",
      "metadata": {
        "id": "xiNVrhphGIWM"
      },
      "source": [
        "We could try and remove these outliers, but another approach would be to plot the logarithm of the counts against the year."
      ]
    },
    {
      "cell_type": "code",
      "execution_count": null,
      "metadata": {
        "id": "F9SmVOg-GIWM",
        "outputId": "eb216fe1-cb47-41b2-d3b7-3b92f0407919",
        "colab": {
          "base_uri": "https://localhost:8080/",
          "height": 490
        }
      },
      "outputs": [
        {
          "output_type": "execute_result",
          "data": {
            "text/plain": [
              "Text(0.5, 0, 'year')"
            ]
          },
          "metadata": {},
          "execution_count": 13
        },
        {
          "output_type": "display_data",
          "data": {
            "text/plain": [
              "<Figure size 640x480 with 1 Axes>"
            ],
            "image/png": "[encoded data removed]"
          },
          "metadata": {}
        }
      ],
      "source": [
        "plt.plot(film_deaths['Year'], film_deaths['Body_Count'], 'rx')\n",
        "ax = plt.gca() # obtain a handle to the current axis\n",
        "ax.set_yscale('log') # use a logarithmic death scale\n",
        "# give the plot some titles and labels\n",
        "plt.title('Film Deaths against Year')\n",
        "plt.ylabel('deaths')\n",
        "plt.xlabel('year')"
      ]
    },
    {
      "cell_type": "markdown",
      "metadata": {
        "id": "iUEYEIeqGIWM"
      },
      "source": [
        "Note a few things. We are interacting with our data. In particular, we are replotting the data according to what we have learned so far. We are using the programming language as a *scripting* language to give the computer one command or another, and then the next command we enter is dependent on the result of the previous. This is a very different paradigm to classical software engineering. In classical software engineering we normally write many lines of code (entire object classes or functions) before compiling the code and running it. Our approach is more similar to the approach we take whilst debugging. Historically, researchers interacted with data using a *console*. A command line window which allowed command entry. The notebook format we are using is slightly different. Each of the code entry boxes acts like a separate console window. We can move up and down the notebook and run each part in a different order. The *state* of the program is always as we left it after running the previous part.  "
      ]
    },
    {
      "cell_type": "markdown",
      "metadata": {
        "id": "uKYyCExHGIWN"
      },
      "source": [
        "### Question 3\n",
        "\n",
        "What is jupyter and why was it invented? Give some examples of functionality it gives over standard python. What is the jupyter project? Name two languages involved in the Jupyter project other than python."
      ]
    },
    {
      "cell_type": "markdown",
      "metadata": {
        "id": "WPMwJa2IGIWN"
      },
      "source": [
        "#### Question 3 Answer\n",
        "Jupyter is an open-source project that provides a web-based interactive computing environment. It was invented to address several key goals in the world of data science, scientific computing, and interactive computing:\n",
        "\n",
        "1. **Interactive Computing**: Jupyter allows users to interact with code, data, and visualizations in an interactive and exploratory manner. It provides a platform for iterative data analysis and experimentation.\n",
        "\n",
        "2. **Documented Workflows**: Jupyter notebooks enable users to create documents that contain live code, equations, visualizations, and explanatory text. This makes it an ideal tool for creating reproducible research and data analysis reports.\n",
        "\n",
        "3. **Support for Multiple Languages**: While Jupyter is closely associated with Python, it supports a wide range of programming languages, making it versatile for various tasks. You can use Jupyter with languages like R, Julia, and many others.\n",
        "\n",
        "4. **Data Visualization**: Jupyter provides integration with libraries like Matplotlib, Plotly, and Seaborn, allowing users to create interactive data visualizations directly within their notebooks.\n",
        "\n",
        "5. **Educational Use**: Jupyter is widely used in education to teach programming, data analysis, and scientific computing. It provides a user-friendly interface for students to learn and experiment with code.\n",
        "\n",
        "6. **Collaboration**: Jupyter notebooks can be shared with others, facilitating collaboration in research and data analysis projects. This makes it easier to disseminate findings and work together on code.\n",
        "\n",
        "The Jupyter project encompasses a variety of components, with Jupyter Notebook being the most well-known. Some of the core components of the Jupyter project include:\n",
        "\n",
        "- **Jupyter Notebook**: The web application that allows you to create and interact with notebooks. It supports multiple programming languages.\n",
        "\n",
        "- **JupyterLab**: An integrated development environment (IDE) that builds upon Jupyter Notebook's capabilities, providing a more flexible and extensible interface for interactive computing.\n",
        "\n",
        "- **IPython**: The interactive computing environment for Python, which was the precursor to Jupyter. IPython is still an important part of Jupyter.\n",
        "\n",
        "- **Jupyter Widgets**: A framework for creating interactive widgets in Jupyter notebooks to enhance user interfaces.\n",
        "\n",
        "- **nbconvert**: A tool for converting Jupyter notebooks to various formats, including HTML, PDF, and slideshows.\n",
        "\n",
        "In addition to Python, two other languages closely involved in the Jupyter project are R and Julia. Jupyter provides kernels (execution engines) for these languages, allowing users to create notebooks and work with them just as they would with Python. This multi-language support makes Jupyter a powerful tool for a wide range of data analysis and scientific computing tasks."
      ]
    },
    {
      "cell_type": "markdown",
      "metadata": {
        "id": "1kuBro0WGIWN"
      },
      "source": [
        "## Probabilities\n",
        "\n",
        "We are now going to do some simple review of probabilities and use this review to explore some aspects of our data.\n",
        "\n",
        "A probability distribution expresses uncertainty about the outcome of an event. We often encode this uncertainty in a variable. So if we are considering the outcome of an event, $Y$, to be a coin toss, then we might consider $Y=1$ to be heads and $Y=0$ to be tails. We represent the probability of a given outcome with the notation:\n",
        "$$\n",
        "P(Y=1) = 0.5\n",
        "$$\n",
        "The first rule of probability is that the probability must normalize. The sum of the probability of all events must equal 1. So if the probability of heads ($Y=1$) is 0.5, then the probability of tails (the only other possible outcome) is given by\n",
        "$$\n",
        "P(Y=0) = 1-P(Y=1) = 0.5\n",
        "$$\n",
        "\n",
        "Probabilities are often defined as the limit of the ratio between the number of positive outcomes (e.g. *heads*) given the number of trials. If the number of positive outcomes for event $y$ is denoted by $n_y$ and the number of trials is denoted by $N$ then this gives the ratio\n",
        "$$\n",
        "P(Y=y) = \\lim_{N\\rightarrow \\infty}\\frac{n_y}{N}.\n",
        "$$\n",
        "In practice we never get to observe an event infinite times, so rather than considering this we often use the following estimate\n",
        "$$\n",
        "P(Y=y) \\approx \\frac{n_y}{N}.\n",
        "$$\n",
        "Let's use this rule to compute the approximate probability that a film from the movie body count website has over 40 deaths."
      ]
    },
    {
      "cell_type": "code",
      "execution_count": null,
      "metadata": {
        "id": "neq5ImELGIWN",
        "colab": {
          "base_uri": "https://localhost:8080/"
        },
        "outputId": "fc0b848b-287e-4cb9-bf41-324676d3b5fb"
      },
      "outputs": [
        {
          "output_type": "stream",
          "name": "stdout",
          "text": [
            "Probability of deaths being greater than 40 is: 0.37767220902612825\n"
          ]
        }
      ],
      "source": [
        "deaths = (film_deaths.Body_Count>40).sum()  # number of positive outcomes (in sum True counts as 1, False counts as 0)\n",
        "total_films = film_deaths.Body_Count.count()\n",
        "prob_death = deaths/total_films\n",
        "print(\"Probability of deaths being greater than 40 is:\", prob_death)"
      ]
    },
    {
      "cell_type": "markdown",
      "metadata": {
        "id": "WQqg3JoMGIWN"
      },
      "source": [
        "### Question 4\n",
        "\n",
        "We now have an estimate of the probability a film has greater than 40 deaths. The estimate seems quite high. What could be wrong with the estimate? Do you think any film you go to in the cinema has this probability of having greater than 40 deaths?"
      ]
    },
    {
      "cell_type": "markdown",
      "metadata": {
        "id": "Qshw-QgoGIWO"
      },
      "source": [
        "#### Question 4 Answer\n",
        "\n",
        "Write your answer to the question in this box."
      ]
    },
    {
      "cell_type": "markdown",
      "metadata": {
        "id": "TQpb61HjGIWO"
      },
      "source": [
        "# Conditioning\n",
        "\n",
        "When predicting whether a coin turns up head or tails, we might think that this event is *independent* of the year or time of day. If we include an observation such as time, then in a probability this is known as *conditioning*. We use this notation, $P(Y=y|T=t)$, to condition the outcome on a second variable (in this case time). Or, often, for a shorthand we use $P(y|t)$ to represent this distribution (the $Y=$ and $T=$ being implicit). Because we don't believe a coin toss depends on time then we might write that\n",
        "$$\n",
        "P(y|t) = P(y).\n",
        "$$\n",
        "However, we might believe that the number of deaths is dependent on the year. For this we can try estimating $P(Y>40 | T=2000)$ and compare the result, for example to $P(Y>40|2002)$ using our empirical estimate of the probability."
      ]
    },
    {
      "cell_type": "code",
      "execution_count": null,
      "metadata": {
        "id": "mZcr6OiRGIWO",
        "colab": {
          "base_uri": "https://localhost:8080/"
        },
        "outputId": "433baaad-684d-408b-d91e-c6e42b63aad9"
      },
      "outputs": [
        {
          "output_type": "stream",
          "name": "stdout",
          "text": [
            "Probability of deaths being greather than 40 in year 2000 is: 0.16666666666666666\n",
            "Probability of deaths being greather than 40 in year 2002 is: 0.4074074074074074\n"
          ]
        }
      ],
      "source": [
        "for year in [2000, 2002]:\n",
        "    deaths = (film_deaths.Body_Count[film_deaths.Year==year]>40).sum()\n",
        "    total_films = (film_deaths.Year==year).sum()\n",
        "\n",
        "    prob_death = float(deaths)/float(total_films)\n",
        "    print(\"Probability of deaths being greather than 40 in year\", year, \"is:\", prob_death)"
      ]
    },
    {
      "cell_type": "markdown",
      "metadata": {
        "id": "CUAal7LMGIWO"
      },
      "source": [
        "### Question 5\n",
        "\n",
        "Compute the probability for the number of deaths being over 40 for each year we have in our `film_deaths` data frame. Store the result in a `numpy` array and plot the probabilities against the years using the `plot` command from `matplotlib`. Do you think the estimate we have created of $P(y|t)$ is a good estimate? Write your code and your written answers in the box below.  "
      ]
    },
    {
      "cell_type": "code",
      "execution_count": null,
      "metadata": {
        "id": "ls28XNivGIWO",
        "colab": {
          "base_uri": "https://localhost:8080/",
          "height": 490
        },
        "outputId": "ccd21e25-7c55-4356-9f4c-770586d716fe"
      },
      "outputs": [
        {
          "output_type": "execute_result",
          "data": {
            "text/plain": [
              "Text(0.5, 0, 'year')"
            ]
          },
          "metadata": {},
          "execution_count": 16
        },
        {
          "output_type": "display_data",
          "data": {
            "text/plain": [
              "<Figure size 640x480 with 1 Axes>"
            ],
            "image/png": "[encoded data removed]"
          },
          "metadata": {}
        }
      ],
      "source": [
        "# Question 5 Answer Code\n",
        "# Write code for you answer to this question in this box\n",
        "prob_death = []\n",
        "years = []\n",
        "for year in set(film_deaths.Year):\n",
        "    deaths = (film_deaths.Body_Count[film_deaths.Year==year]>40).sum()\n",
        "    total_films = (film_deaths.Year==year).sum()\n",
        "    years.append(year)\n",
        "    prob_death.append(float(deaths)/float(total_films))\n",
        "    # print(\"Probability of deaths being greather than 40 in year\", year, \"is:\", prob_death)\n",
        "\n",
        "plt.plot(years, prob_death, 'bx')\n",
        "ax = plt.gca() # obtain a handle to the current axis\n",
        "# ax.set_yscale('log') # use a logarithmic death scale\n",
        "# give the plot some titles and labels\n",
        "plt.title('Probability of deaths being greather than 40 in year')\n",
        "plt.ylabel('probability')\n",
        "plt.xlabel('year')\n"
      ]
    },
    {
      "cell_type": "markdown",
      "metadata": {
        "id": "4nBfnOeoGIWO"
      },
      "source": [
        "#### Question 5 Answer Text\n",
        "\n",
        "Write your answer to the question in this box."
      ]
    },
    {
      "cell_type": "markdown",
      "metadata": {
        "id": "SMHYGIxbGIWP"
      },
      "source": [
        "#### Notes for Question 5\n",
        "\n",
        "Make sure the plot is included in *this* notebook file (the `IPython` magic command `%matplotlib inline` we ran above will do that for you, it only needs to be run once per file)."
      ]
    },
    {
      "cell_type": "markdown",
      "metadata": {
        "id": "gbMt-cB9GIWP"
      },
      "source": [
        "### Rules of Probability\n",
        "\n",
        "We've now introduced conditioning and independence to the notion of probability and computed some conditional probabilities on a practical example. The scatter plot of deaths vs year that we created above can be seen as a *joint* probability distribution. We represent a joint probability using the notation $P(Y=y, T=t)$ or $P(y, t)$ for short. Computing a joint probability is equivalent to answering the simultaneous questions, what's the probability that the number of deaths was over 40 and the year was 2002? Or any other question that may occur to us. Again we can easily use pandas to ask such questions.\n"
      ]
    },
    {
      "cell_type": "code",
      "execution_count": null,
      "metadata": {
        "id": "iApeqgRwGIWP",
        "colab": {
          "base_uri": "https://localhost:8080/"
        },
        "outputId": "acf88513-f85e-40fa-d059-0b912bc783ee"
      },
      "outputs": [
        {
          "output_type": "stream",
          "name": "stdout",
          "text": [
            "Probability of deaths being greather than 40 and year being 2000 is: 0.007125890736342043\n"
          ]
        }
      ],
      "source": [
        "year = 2000\n",
        "deaths = (film_deaths.Body_Count[film_deaths.Year==year]>40).sum()\n",
        "total_films = film_deaths.Body_Count.count() # this is total number of films\n",
        "prob_death = deaths/total_films\n",
        "print(\"Probability of deaths being greather than 40 and year being\", year, \"is:\", prob_death)"
      ]
    },
    {
      "cell_type": "markdown",
      "metadata": {
        "id": "9ukk73heGIWP"
      },
      "source": [
        "### The Product Rule\n",
        "\n",
        "This number is the joint probability, $P(Y, T)$ which is much *smaller* than the conditional probability. The number can never be bigger than the conditional probability because it is computed using the *product rule*.\n",
        "$$\n",
        "p(Y=y, T=t) = p(Y=y|T=t)p(T=t)\n",
        "$$\n",
        "and $$p(T=t)$$ is a probability distribution, which is equal or less than 1, ensuring the joint distribution is typically smaller than the conditional distribution.\n",
        "\n",
        "The product rule is a *fundamental* rule of probability, and you must remember it! It gives the relationship between the two questions: 1) What's the probability that a film was made in 2002 and has over 40 deaths? and 2) What's the probability that a film has over 40 deaths given that it was made in 2002?\n",
        "\n",
        "In our shorter notation we can write the product rule as\n",
        "$$\n",
        "p(y, t) = p(y|t)p(t)\n",
        "$$\n",
        "We can see the relation working in practice for our data above by computing the different values for $t=2000$."
      ]
    },
    {
      "cell_type": "code",
      "execution_count": null,
      "metadata": {
        "id": "YLQ8HaloGIWP",
        "colab": {
          "base_uri": "https://localhost:8080/"
        },
        "outputId": "5527f00c-462e-4f9b-83dd-c676dae4068d"
      },
      "outputs": [
        {
          "output_type": "stream",
          "name": "stdout",
          "text": [
            "P(t) is 0.06413301662707839\n",
            "P(y|t) is 0.4074074074074074\n",
            "P(y,t) is 0.026128266033254157\n"
          ]
        }
      ],
      "source": [
        "p_t = float((film_deaths.Year==2002).sum())/float(film_deaths.Body_Count.count())\n",
        "p_y_given_t = float((film_deaths.Body_Count[film_deaths.Year==2002]>40).sum())/float((film_deaths.Year==2002).sum())\n",
        "p_y_and_t = float((film_deaths.Body_Count[film_deaths.Year==2002]>40).sum())/float(film_deaths.Body_Count.count())\n",
        "\n",
        "print(\"P(t) is\", p_t)\n",
        "print(\"P(y|t) is\", p_y_given_t)\n",
        "print(\"P(y,t) is\", p_y_and_t)"
      ]
    },
    {
      "cell_type": "markdown",
      "metadata": {
        "id": "UykLKJn3GIWQ"
      },
      "source": [
        "### The Sum Rule\n",
        "\n",
        "The other *fundamental rule* of probability is the *sum rule* this tells us how to get a *marginal* distribution from the joint distribution. Simply put it says that we need to sum across the value we'd like to remove.\n",
        "$$\n",
        "P(Y=y) = \\sum_{t} P(Y=y, T=t)\n",
        "$$\n",
        "Or in our shortened notation\n",
        "$$\n",
        "P(y) = \\sum_{t} P(y, t)\n",
        "$$"
      ]
    },
    {
      "cell_type": "markdown",
      "metadata": {
        "id": "pzClLtQKGIWQ"
      },
      "source": [
        "### Question 6\n",
        "\n",
        "Write code that computes $P(y)$ by adding $P(y, t)$ for all values of $t$."
      ]
    },
    {
      "cell_type": "code",
      "execution_count": null,
      "metadata": {
        "id": "SVoIW-Z1GIWQ",
        "colab": {
          "base_uri": "https://localhost:8080/"
        },
        "outputId": "c96edf53-753a-4d35-9264-a63bfdf688bc"
      },
      "outputs": [
        {
          "output_type": "execute_result",
          "data": {
            "text/plain": [
              "0.37767220902612836"
            ]
          },
          "metadata": {},
          "execution_count": 26
        }
      ],
      "source": [
        "# Question 6 Answer Code\n",
        "# Write code for you answer to this question in this box\n",
        "y = 40\n",
        "p_y = 0\n",
        "for t in set(film_deaths.Year):\n",
        "  p_y_and_t = float((film_deaths.Body_Count[film_deaths.Year==t]>y).sum())/float(film_deaths.Body_Count.count())\n",
        "  p_y += p_y_and_t\n",
        "p_y"
      ]
    },
    {
      "cell_type": "markdown",
      "metadata": {
        "id": "g-np4mCKGIWQ"
      },
      "source": [
        "## Bayes' Rule\n",
        "\n",
        "Bayes rule is a very simple rule, it's hardly worth the name of a rule at all. It follows directly from the product rule of probability. Because $P(y, t) = P(y|t)P(t)$ and by symmetry $P(y,t)=P(t,y)=P(t|y)P(y)$ then by equating these two equations and dividing through by $P(y)$ we have\n",
        "$$\n",
        "P(t|y) = \\frac{P(y|t)P(t)}{P(y)},\n",
        "$$\n",
        "which is known as Bayes' rule (or Bayes's rule, it depends how you choose to pronounce it). It's not difficult to derive, and its importance is more to do with the semantic operation that it enables. Each of these probability distributions represents the answer to a question we have about the world. Bayes rule (via the product rule) tells us how to *invert* the probability."
      ]
    },
    {
      "cell_type": "markdown",
      "metadata": {
        "id": "VstM5W5BGIWQ"
      },
      "source": [
        "## Probabilities for Extracting Information from Data\n",
        "\n",
        "What use is all this probability in data science? Let's think about how we might use the probabilities to do some decision making. Let's load up a little more information about the movies."
      ]
    },
    {
      "cell_type": "code",
      "execution_count": null,
      "metadata": {
        "id": "g97EIG86GIWR",
        "colab": {
          "base_uri": "https://localhost:8080/"
        },
        "outputId": "4e433376-34ea-4c82-f429-35e2736da2e0"
      },
      "outputs": [
        {
          "output_type": "execute_result",
          "data": {
            "text/plain": [
              "Index(['Film', 'Year', 'Body_Count', 'MPAA_Rating', 'Genre', 'Director',\n",
              "       'Actors', 'Length_Minutes', 'IMDB_Rating'],\n",
              "      dtype='object')"
            ]
          },
          "metadata": {},
          "execution_count": 20
        }
      ],
      "source": [
        "movies = pd.read_csv('./R-vs-Python-master/Deadliest movies scrape/code/film-death-counts-Python.csv')\n",
        "movies.columns"
      ]
    },
    {
      "cell_type": "markdown",
      "metadata": {
        "id": "dojonNc5GIWR"
      },
      "source": [
        "### Question 7\n",
        "\n",
        "Now we see we have several additional features including the quality rating (`IMDB_Rating`). Let's assume we want to predict the rating given the other information in the data base. How would we go about doing it?\n",
        "\n",
        "Using what you've learnt about joint, conditional and marginal probabilities, as well as the sum and product rule, how would you formulate the question you want to answer in terms of probabilities? Should you be using a joint or a conditional distribution? If it's conditional, what should the distribution be over, and what should it be conditioned on?"
      ]
    },
    {
      "cell_type": "markdown",
      "metadata": {
        "id": "kkHNtB4cGIWR"
      },
      "source": [
        "#### Question 7 Answer\n",
        "To predict the rating (IMDB_Rating) given the other information in the database, you can formulate this as a conditional probability problem. Specifically, you want to estimate the conditional distribution of IMDB_Rating given the available features or attributes. This can be done using techniques such as regression or classification, depending on the nature of your data and the assumptions you are willing to make.\n",
        "\n",
        "Here's how you can approach this problem:\n",
        "\n",
        "1. **Define Your Problem**: You want to predict IMDB_Rating based on other features, so your problem is to estimate the probability distribution of IMDB_Rating given those features.\n",
        "\n",
        "2. **Choose a Model**: Select an appropriate model for your problem. If you are predicting a numerical rating (e.g., on a scale of 1 to 10), you might consider linear regression or other regression techniques. If you are predicting categories (e.g., classifying into high, medium, or low ratings), then classification techniques like logistic regression or decision trees could be used.\n",
        "\n",
        "3. **Select Features**: Decide which features from your dataset are relevant for predicting IMDB_Rating. These features will be used to condition the probability distribution.\n",
        "\n",
        "4. **Collect and Prepare Data**: Gather data for your training set, ensuring it includes IMDB_Rating and the selected features. Preprocess the data by handling missing values, scaling, and encoding categorical variables if necessary.\n",
        "\n",
        "5. **Build and Train the Model**: Train your chosen model using the training data. The model learns the relationships between the selected features and IMDB_Rating.\n",
        "\n",
        "6. **Evaluate Model Performance**: Use appropriate evaluation metrics (e.g., Mean Squared Error for regression, accuracy for classification) to assess how well your model predicts IMDB_Rating on a separate validation or test dataset.\n",
        "\n",
        "7. **Use the Model for Predictions**: Once you are satisfied with your model's performance, you can use it to make predictions on new, unseen data to estimate IMDB_Rating.\n",
        "\n",
        "8. **Regularization and Tuning**: Depending on your model, you may need to apply regularization techniques or hyperparameter tuning to improve performance and prevent overfitting.\n",
        "\n",
        "To summarize, you should use a conditional distribution where IMDB_Rating is the target variable, and the distribution is conditioned on the relevant features from your dataset. The choice of model and techniques will depend on your specific goals and the nature of your data."
      ]
    },
    {
      "cell_type": "code",
      "source": [],
      "metadata": {
        "id": "tNO3R8wQWzsW"
      },
      "execution_count": null,
      "outputs": []
    }
  ],
  "metadata": {
    "anaconda-cloud": {},
    "kernelspec": {
      "display_name": "Python 3 (ipykernel)",
      "language": "python",
      "name": "python3"
    },
    "language_info": {
      "codemirror_mode": {
        "name": "ipython",
        "version": 3
      },
      "file_extension": ".py",
      "mimetype": "text/x-python",
      "name": "python",
      "nbconvert_exporter": "python",
      "pygments_lexer": "ipython3",
      "version": "3.10.9"
    },
    "colab": {
      "provenance": [],
      "include_colab_link": true
    }
  },
  "nbformat": 4,
  "nbformat_minor": 0
}